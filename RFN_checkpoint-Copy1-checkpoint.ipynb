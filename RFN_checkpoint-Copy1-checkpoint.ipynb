{
 "cells": [
  {
   "cell_type": "markdown",
   "metadata": {},
   "source": [
    "# Set Imports and Functions"
   ]
  },
  {
   "cell_type": "code",
   "execution_count": null,
   "metadata": {},
   "outputs": [],
   "source": [
    "##pip acting weird\n",
    "#!pip3 install plotly-express"
   ]
  },
  {
   "cell_type": "code",
   "execution_count": null,
   "metadata": {},
   "outputs": [],
   "source": [
    "import os\n",
    "import io\n",
    "import requests\n",
    "from urllib.parse import urljoin\n",
    "from bs4 import BeautifulSoup\n",
    "import json\n",
    "import pandas as pd\n",
    "from pandas import DataFrame\n",
    "from urllib.request import Request, urlopen\n",
    "import numpy as np\n",
    "import csv\n",
    "import html.parser\n",
    "import re\n",
    "from io import StringIO, BytesIO\n",
    "import urllib.request\n",
    "from urllib.parse import quote\n",
    "from pdfminer.converter import TextConverter\n",
    "from pdfminer.pdfinterp import PDFPageInterpreter, PDFResourceManager\n",
    "from pdfminer.pdfpage import PDFPage\n",
    "import plotly.graph_objects as go\n",
    "import textwrap\n",
    "import numpy as np\n",
    "from datetime import date, datetime, timedelta"
   ]
  },
  {
   "cell_type": "code",
   "execution_count": null,
   "metadata": {
    "code_folding": [
     0
    ]
   },
   "outputs": [],
   "source": [
    "def log_progress(sequence, every=None, size=None, name='Items'):\n",
    "    from ipywidgets import IntProgress, HTML, VBox\n",
    "    from IPython.display import display\n",
    "\n",
    "    is_iterator = False\n",
    "    if size is None:\n",
    "        try:\n",
    "            size = len(sequence)\n",
    "        except TypeError:\n",
    "            is_iterator = True\n",
    "    if size is not None:\n",
    "        if every is None:\n",
    "            if size <= 200:\n",
    "                every = 1\n",
    "            else:\n",
    "                every = int(size / 200)     # every 0.5%\n",
    "    else:\n",
    "        assert every is not None, 'sequence is iterator, set every'\n",
    "\n",
    "    if is_iterator:\n",
    "        progress = IntProgress(min=0, max=1, value=1)\n",
    "        progress.bar_style = 'info'\n",
    "    else:\n",
    "        progress = IntProgress(min=0, max=size, value=0)\n",
    "    label = HTML()\n",
    "    box = VBox(children=[label, progress])\n",
    "    display(box)\n",
    "\n",
    "    index = 0\n",
    "    try:\n",
    "        for index, record in enumerate(sequence, 1):\n",
    "            if index == 1 or index % every == 0:\n",
    "                if is_iterator:\n",
    "                    label.value = '{name}: {index} / ?'.format(\n",
    "                        name=name,\n",
    "                        index=index\n",
    "                    )\n",
    "                else:\n",
    "                    progress.value = index\n",
    "                    label.value = u'{name}: {index} / {size}'.format(\n",
    "                        name=name,\n",
    "                        index=index,\n",
    "                        size=size\n",
    "                    )\n",
    "            yield record\n",
    "    except:\n",
    "        progress.bar_style = 'danger'\n",
    "        raise\n",
    "    else:\n",
    "        progress.bar_style = 'success'\n",
    "        progress.value = index\n",
    "        label.value = \"{name}: {index}\".format(\n",
    "            name=name,\n",
    "            index=str(index or '?')\n",
    "        )"
   ]
  },
  {
   "cell_type": "code",
   "execution_count": null,
   "metadata": {
    "code_folding": [],
    "scrolled": false
   },
   "outputs": [],
   "source": [
    "##Get full text\n",
    "with pd.option_context('display.max_colwidth', None):\n",
    "    print(df_iati['desc'].head(10))\n"
   ]
  },
  {
   "cell_type": "markdown",
   "metadata": {},
   "source": [
    "### Import Data"
   ]
  },
  {
   "cell_type": "code",
   "execution_count": null,
   "metadata": {
    "scrolled": true
   },
   "outputs": [],
   "source": [
    "df_iati = pd.read_csv('out_full.csv', sep=',', error_bad_lines=False, index_col=False, dtype=str)\n",
    "df_iati.head(10)"
   ]
  },
  {
   "cell_type": "markdown",
   "metadata": {},
   "source": [
    "#### Define IATI Publishers"
   ]
  },
  {
   "cell_type": "code",
   "execution_count": null,
   "metadata": {},
   "outputs": [],
   "source": [
    "iati_publishers = pd.read_csv('iati_publishers_list.csv', sep=',', error_bad_lines=False, index_col=False, dtype=str)\n",
    "iati_publishers_dict = dict(zip(iati_publishers['IATI Organisation Identifier'], iati_publishers['Publisher']))\n",
    "\n",
    "\n",
    "df_iati['rep_org_source'] = df_iati['rep_org']\n",
    "\n",
    "df_iati['rep_org'] = df_iati['rep_org'].replace(iati_publishers_dict)\n",
    "df_iati\n"
   ]
  },
  {
   "cell_type": "code",
   "execution_count": null,
   "metadata": {},
   "outputs": [],
   "source": [
    "# df_iati['adj_usd_val'] = [float(i) for i in df_iati['adj_usd_val']]\n",
    "df_iati.head(20)"
   ]
  },
  {
   "cell_type": "code",
   "execution_count": null,
   "metadata": {
    "scrolled": false
   },
   "outputs": [],
   "source": [
    "df_oak = pd.read_csv('finalData/oak.csv', sep=',', error_bad_lines=False, index_col=False)\n",
    "df_oak['adj_usd_val'] = [float(i) for i in df_oak['adj_usd_val']]\n",
    "df_oak['val_date'] = pd.to_datetime(df_oak['val_date']).dt.strftime('%Y-%m-%d')\n",
    "df_oak.head(10)\n",
    "# df_oak['adj_usd_val'].sum()"
   ]
  },
  {
   "cell_type": "code",
   "execution_count": null,
   "metadata": {
    "scrolled": true
   },
   "outputs": [],
   "source": [
    "df_christensen = pd.read_csv('finalData/christensen.csv', sep=',', error_bad_lines=False, index_col=False)\n",
    "df_christensen['adj_usd_val'] = [float(i) for i in df_christensen['adj_usd_val']]\n",
    "df_christensen['val_date'] = pd.to_datetime(df_christensen['val_date'], infer_datetime_format=True)\n",
    "df_christensen.head(10)\n"
   ]
  },
  {
   "cell_type": "code",
   "execution_count": null,
   "metadata": {
    "scrolled": true
   },
   "outputs": [],
   "source": [
    "df_macarthur = pd.read_csv('finalData/macarthur.csv', sep=',', error_bad_lines=False, index_col=False)\n",
    "df_macarthur['adj_usd_val'] = [float(i) for i in df_macarthur['adj_usd_val']]\n",
    "df_macarthur['val_date'] = pd.to_datetime(df_macarthur['val_date'], infer_datetime_format=True)\n",
    "df_macarthur.head(10)"
   ]
  },
  {
   "cell_type": "code",
   "execution_count": null,
   "metadata": {},
   "outputs": [],
   "source": [
    "df_mulago = pd.read_csv('finalData/mulago.csv', sep=',', error_bad_lines=False, index_col=False)\n",
    "df_mulago['adj_usd_val'] = [float(i) for i in df_mulago['adj_usd_val']]\n",
    "df_mulago['val_date'] = pd.to_datetime(df_mulago['val_date'], infer_datetime_format=True)\n",
    "\n",
    "df_mulago.head(10)"
   ]
  },
  {
   "cell_type": "code",
   "execution_count": null,
   "metadata": {},
   "outputs": [],
   "source": [
    "df_ford = pd.read_csv('finalData/ford.csv', sep=',', error_bad_lines=False, index_col=False)\n",
    "df_ford['val_date'] = pd.to_datetime(df_ford['val_date']).dt.strftime('%Y-%m-%d')\n",
    "df_ford['adj_usd_val'] = [float(i) for i in df_ford['adj_usd_val']]\n",
    "\n",
    "df_ford.head(10)"
   ]
  },
  {
   "cell_type": "markdown",
   "metadata": {},
   "source": [
    "### Concat Data Together"
   ]
  },
  {
   "cell_type": "code",
   "execution_count": null,
   "metadata": {},
   "outputs": [],
   "source": [
    "concated_dfs = [df_iati, df_christensen, df_oak, df_macarthur, df_ford, df_mulago]"
   ]
  },
  {
   "cell_type": "code",
   "execution_count": null,
   "metadata": {
    "code_folding": [],
    "scrolled": true
   },
   "outputs": [],
   "source": [
    "full_data = pd.concat(concated_dfs)\n",
    "full_data = full_data.drop(columns=['programme', \n",
    "                                    'sub_', \n",
    "                                    'year', \n",
    "                                    'duration', \n",
    "                                    'end_date', \n",
    "                                    'start_date', \n",
    "                                    'Duration', \n",
    "                                    'end year',\n",
    "                                    'total investment (loans)',\n",
    "                                    'total investment (grants)',\n",
    "                                    'area of focus',\n",
    "                                    'file_urls',\n",
    "                                    ' End Date',\n",
    "                                    ' Start Date',\n",
    "                                    ' Benefiting Populations',\n",
    "                                    ' Subjects',\n",
    "                                    ' Grantee Id',\n",
    "                                    'Id'\n",
    "                                   ])\n",
    "full_data"
   ]
  },
  {
   "cell_type": "markdown",
   "metadata": {},
   "source": [
    "### Define and subset Tropical Countries (Country, Region, Lat-Long)"
   ]
  },
  {
   "cell_type": "code",
   "execution_count": null,
   "metadata": {},
   "outputs": [],
   "source": [
    "df_indigenous_tropical = []\n",
    "df_indigenous = []"
   ]
  },
  {
   "cell_type": "code",
   "execution_count": null,
   "metadata": {
    "scrolled": false
   },
   "outputs": [],
   "source": [
    "## https://github.com/IATI/ckanext-iati/blob/a0fa6901d45681554bc446633e831494f28b861c/ckanext/iati/countries.py\n",
    "# -*- coding: UTF-8 -*-\n",
    "\n",
    "# This Python file uses the following encoding: utf-8\n",
    "# Country and regions names and codes sent by Bill Anderson on 2011-06-28. Updated 2018-10-10.\n",
    "\n",
    "countries = ((\"\",u\"(No country assigned)\"),(\"AF\",u\"Afghanistan\"),(\"AX\",u\"Åland Islands\"),(\"AL\",u\"Albania\"),(\"DZ\",u\"Algeria\"),(\"AS\",u\"American Samoa\"),(\"AD\",u\"Andorra\"),(\"AO\",u\"Angola\"),(\"AI\",u\"Anguilla\"),(\"AQ\",u\"Antarctica\"),(\"AG\",u\"Antigua and Barbuda\"),(\"AR\",u\"Argentina\"),(\"AM\",u\"Armenia\"),(\"AW\",u\"Aruba\"),(\"AU\",u\"Australia\"),(\"AT\",u\"Austria\"),(\"AZ\",u\"Azerbaijan\"),(\"BS\",u\"Bahamas\"),(\"BH\",u\"Bahrain\"),(\"BD\",u\"Bangladesh\"),(\"BB\",u\"Barbados\"),(\"BY\",u\"Belarus\"),(\"BE\",u\"Belgium\"),(\"BZ\",u\"Belize\"),(\"BJ\",u\"Benin\"),(\"BM\",u\"Bermuda\"),(\"BT\",u\"Bhutan\"),(\"BO\",u\"Bolivia\"),(\"BQ\",u\"Bonaire, Sint Eustatius and Saba\"),(\"BA\",u\"Bosnia and Herzegovina\"),(\"BW\",u\"Botswana\"),(\"BV\",u\"Bouvet Island\"),(\"BR\",u\"Brazil\"),(\"IO\",u\"British Indian Ocean Territory\"),(\"BN\",u\"Brunei Darussalam\"),(\"BG\",u\"Bulgaria\"),(\"BF\",u\"Burkina Faso\"),(\"BI\",u\"Burundi\"),(\"KH\",u\"Cambodia\"),(\"CM\",u\"Cameroon\"),(\"CA\",u\"Canada\"),(\"CV\",u\"Cabo Verde\"),(\"KY\",u\"Cayman Islands\"),(\"CF\",u\"Central African Republic\"),(\"TD\",u\"Chad\"),(\"CL\",u\"Chile\"),(\"CN\",u\"China\"),(\"CX\",u\"Christmas Island\"),(\"CC\",u\"Cocos (Keeling) Islands\"),(\"CO\",u\"Colombia\"),(\"KM\",u\"Comoros\"),(\"CG\",u\"Congo\"),(\"CD\",u\"Congo (Democratic Republic of the)\"),(\"CK\",u\"Cook Islands\"),(\"CR\",u\"Costa Rica\"),(\"CI\",u\"Côte D'Ivoire\"),(\"HR\",u\"Croatia\"),(\"CU\",u\"Cuba\"),(\"CW\",u\"Curaçao\"),(\"CY\",u\"Cyprus\"),(\"CZ\",u\"Czechia\"),(\"DK\",u\"Denmark\"),(\"DJ\",u\"Djibouti\"),(\"DM\",u\"Dominica\"),(\"DO\",u\"Dominican Republic\"),(\"EC\",u\"Ecuador\"),(\"EG\",u\"Egypt\"),(\"SV\",u\"El Salvador\"),(\"GQ\",u\"Equatorial Guinea\"),(\"ER\",u\"Eritrea\"),(\"EE\",u\"Estonia\"),(\"ET\",u\"Ethiopia\"),(\"FK\",u\"Falkland Islands [Malvinas]\"),(\"FO\",u\"Faroe Islands\"),(\"FJ\",u\"Fiji\"),(\"FI\",u\"Finland\"),(\"FR\",u\"France\"),(\"GF\",u\"French Guiana\"),(\"PF\",u\"French Polynesia\"),(\"TF\",u\"French Southern Territories\"),(\"GA\",u\"Gabon\"),(\"GM\",u\"Gambia\"),(\"GE\",u\"Georgia\"),(\"DE\",u\"Germany\"),(\"GH\",u\"Ghana\"),(\"GI\",u\"Gibraltar\"),(\"GR\",u\"Greece\"),(\"GL\",u\"Greenland\"),(\"GD\",u\"Grenada\"),(\"GP\",u\"Guadeloupe\"),(\"GU\",u\"Guam\"),(\"GT\",u\"Guatemala\"),(\"GG\",u\"Guernsey\"),(\"GN\",u\"Guinea\"),(\"GW\",u\"Guinea-Bissau\"),(\"GY\",u\"Guyana\"),(\"HT\",u\"Haiti\"),(\"HM\",u\"Heard Island and Mcdonald Islands\"),(\"VA\",u\"Holy See\"),(\"HN\",u\"Honduras\"),(\"HK\",u\"Hong Kong\"),(\"HU\",u\"Hungary\"),(\"IS\",u\"Iceland\"),(\"IN\",u\"India\"),(\"ID\",u\"Indonesia\"),(\"IR\",u\"Iran, Islamic Republic of\"),(\"IQ\",u\"Iraq\"),(\"IE\",u\"Ireland\"),(\"IM\",u\"Isle of Man\"),(\"IL\",u\"Israel\"),(\"IT\",u\"Italy\"),(\"JM\",u\"Jamaica\"),(\"JP\",u\"Japan\"),(\"JE\",u\"Jersey\"),(\"JO\",u\"Jordan\"),(\"KZ\",u\"Kazakhstan\"),(\"KE\",u\"Kenya\"),(\"KI\",u\"Kiribati\"),(\"KP\",u\"Korea (Democratic People's Republic of)\"),(\"KR\",u\"Korea (Republic of)\"),(\"XK\",u\"Kosovo\"),(\"KW\",u\"Kuwait\"),(\"KG\",u\"Kyrgyzstan\"),(\"LA\",u\"Lao People's Democratic Republic\"),(\"LV\",u\"Latvia\"),(\"LB\",u\"Lebanon\"),(\"LS\",u\"Lesotho\"),(\"LR\",u\"Liberia\"),(\"LY\",u\"Libya\"),(\"LI\",u\"Liechtenstein\"),(\"LT\",u\"Lithuania\"),(\"LU\",u\"Luxembourg\"),(\"MO\",u\"Macao\"),(\"MK\",u\"Macedonia (former Yugoslav Republic of\"),(\"MG\",u\"Madagascar\"),(\"MW\",u\"Malawi\"),(\"MY\",u\"Malaysia\"),(\"MV\",u\"Maldives\"),(\"ML\",u\"Mali\"),(\"MT\",u\"Malta\"),(\"MH\",u\"Marshall Islands\"),(\"MQ\",u\"Martinique\"),(\"MR\",u\"Mauritania\"),(\"MU\",u\"Mauritius\"),(\"YT\",u\"Mayotte\"),(\"MX\",u\"Mexico\"),(\"FM\",u\"Micronesia (Federated States of\"),(\"MD\",u\"Moldova (Republic of)\"),(\"MC\",u\"Monaco\"),(\"MN\",u\"Mongolia\"),(\"ME\",u\"Montenegro\"),(\"MS\",u\"Montserrat\"),(\"MA\",u\"Morocco\"),(\"MZ\",u\"Mozambique\"),(\"MM\",u\"Myanmar\"),(\"NA\",u\"Namibia\"),(\"NR\",u\"Nauru\"),(\"NP\",u\"Nepal\"),(\"NL\",u\"Netherlands\"),(\"NC\",u\"New Caledonia\"),(\"NZ\",u\"New Zealand\"),(\"NI\",u\"Nicaragua\"),(\"NE\",u\"Niger\"),(\"NG\",u\"Nigeria\"),(\"NU\",u\"Niue\"),(\"NF\",u\"Norfolk Island\"),(\"MP\",u\"Northern Mariana Islands\"),(\"NO\",u\"Norway\"),(\"OM\",u\"Oman\"),(\"PK\",u\"Pakistan\"),(\"PW\",u\"Palau\"),(\"PS\",u\"Palestine, State of\"),(\"PA\",u\"Panama\"),(\"PG\",u\"Papua New Guinea\"),(\"PY\",u\"Paraguay\"),(\"PE\",u\"Peru\"),(\"PH\",u\"Philippines\"),(\"PN\",u\"Pitcairn\"),(\"PL\",u\"Poland\"),(\"PT\",u\"Portugal\"),(\"PR\",u\"Puerto Rico\"),(\"QA\",u\"Qatar\"),(\"RE\",u\"Réunion\"),(\"RO\",u\"Romania\"),(\"RU\",u\"Russian Federation\"),(\"RW\",u\"Rwanda\"),(\"BL\",u\"Saint Barthélemy\"),(\"SH\",u\"Saint Helena, Ascension and Tristan da Cunha\"),(\"KN\",u\"Saint Kitts and Nevis\"),(\"LC\",u\"Saint Lucia\"),(\"MF\",u\"Saint Martin (French part)\"),(\"PM\",u\"Saint Pierre and Miquelon\"),(\"VC\",u\"Saint Vincent and the Grenadines\"),(\"WS\",u\"Samoa\"),(\"SM\",u\"San Marino\"),(\"ST\",u\"Sao Tome and Principe\"),(\"SA\",u\"Saudi Arabia\"),(\"SN\",u\"Senegal\"),(\"RS\",u\"Serbia\"),(\"SC\",u\"Seychelles\"),(\"SL\",u\"Sierra Leone\"),(\"SG\",u\"Singapore\"),(\"SX\",u\"Sint Maarten (Dutch part)\"),(\"SK\",u\"Slovakia\"),(\"SI\",u\"Slovenia\"),(\"SB\",u\"Solomon Islands\"),(\"SO\",u\"Somalia\"),(\"ZA\",u\"South Africa\"),(\"GS\",u\"South Georgia and the South Sandwich Islands\"),(\"SS\",u\"South Sudan\"),(\"ES\",u\"Spain\"),(\"LK\",u\"Sri Lanka\"),(\"SD\",u\"Sudan\"),(\"SR\",u\"Suriname\"),(\"SJ\",u\"Svalbard and Jan Mayen\"),(\"SZ\",u\"eSwatini\"),(\"SE\",u\"Sweden\"),(\"CH\",u\"Switzerland\"),(\"SY\",u\"Syrian Arab Republic\"),(\"TW\",u\"Taiwan (Province of China)\"),(\"TJ\",u\"Tajikistan\"),(\"TZ\",u\"Tanzania, United Republic of\"),(\"TH\",u\"Thailand\"),(\"TL\",u\"Timor-Leste\"),(\"TG\",u\"Togo\"),(\"TK\",u\"Tokelau\"),(\"TO\",u\"Tonga\"),(\"TT\",u\"Trinidad and Tobago\"),(\"TN\",u\"Tunisia\"),(\"TR\",u\"Turkey\"),(\"TM\",u\"Turkmenistan\"),(\"TC\",u\"Turks and Caicos Islands\"),(\"TV\",u\"Tuvalu\"),(\"UG\",u\"Uganda\"),(\"UA\",u\"Ukraine\"),(\"AE\",u\"United Arab Emirates\"),(\"GB\",u\"United Kingdom\"),(\"US\",u\"United States\"),(\"UM\",u\"United States Minor Outlying Islands\"),(\"UY\",u\"Uruguay\"),(\"UZ\",u\"Uzbekistan\"),(\"VU\",u\"Vanuatu\"),(\"VE\",u\"Venezuela (Bolivarian Republic of)\"),(\"VN\",u\"Viet Nam\"),(\"VG\",u\"Virgin Islands (British)\"),(\"VI\",u\"Virgin Islands (U.S.)\"),(\"WF\",u\"Wallis and Futuna\"),(\"EH\",u\"Western Sahara\"),(\"YE\",u\"Yemen\"),(\"ZM\",u\"Zambia\"),(\"ZW\",u\"Zimbabwe\"),(\"88\",u\"States Ex-Yugoslavia unspecified\"),(\"298\",u\"Africa, regional\"),(\"189\",u\"North of Sahara, regional\"),(\"289\",u\"South of Sahara, regional\"),(\"89\",u\"Europe, regional\"),(\"498\",u\"America, regional\"),(\"389\",u\"North & Central America, regional\"),(\"489\",u\"South America, regional\"),(\"380\",u\"West Indies, regional\"),(\"589\",u\"Middle East, regional\"),(\"798\",u\"Asia, regional\"),(\"619\",u\"Central Asia, regional\"),(\"679\",u\"South Asia, regional\"),(\"689\",u\"South & Central Asia, regional\"),(\"789\",u\"Far East Asia, regional\"),(\"889\",u\"Oceania, regional\"),(\"998\",u\"Bilateral, unspecified\"),)\n",
    "\n",
    "\n",
    "countries = pd.DataFrame(countries)\n",
    "\n",
    "\n",
    "countries['Tropical'] = countries[1].apply(callback)\n",
    "\n",
    "countries\n"
   ]
  },
  {
   "cell_type": "code",
   "execution_count": null,
   "metadata": {},
   "outputs": [],
   "source": [
    "tropical_codes = countries.loc[countries['Tropical'] == 'Tropical']\n",
    "tropical_codes_short = tropical_codes[0]\n",
    "tropical_codes_short = '|'.join(tropical_codes_short)\n",
    "tropical_codes_short"
   ]
  },
  {
   "cell_type": "markdown",
   "metadata": {},
   "source": [
    "### Define Indigenous Test"
   ]
  },
  {
   "cell_type": "code",
   "execution_count": null,
   "metadata": {
    "code_folding": []
   },
   "outputs": [],
   "source": [
    "df_indigenous['desc']=df_indigenous['desc'].apply(str)\n",
    "\n",
    "def callback(text):\n",
    "    if re.search(\"Indigenous|Indigenous People|populations indigènes|peuples autochtones|autochtones|Indigènes|Pueblos indígenas|gente indígena|povo indígena|Pessoas indígenas|urfolk|urinvånare|ursprungsbefolkning|penduduk asli|masyarakat adat|indigenen Völkern|Ureinwohner|paikallisia yhteisöjä|paikallinen yhteisö\", text, re.IGNORECASE):\n",
    "        return 'Indigenous'\n",
    "        \n",
    "    else:\n",
    "        return 'Not Indigenous'\n",
    "\n",
    "    return ''\n",
    "\n",
    "df_indigenous['Indigenous'] = df_indigenous['desc'].apply(callback)\n",
    "df_indigenous"
   ]
  },
  {
   "cell_type": "code",
   "execution_count": null,
   "metadata": {},
   "outputs": [],
   "source": [
    "## Old method\n",
    "# ##Declare variable parsing \n",
    "# indigenous = \"Indigenous|Indigenous People|populations indigènes|peuples autochtones|autochtones|Indigènes|Pueblos indígenas|gente indígena|povo indígena|Pessoas indígenas|urfolk|urinvånare|ursprungsbefolkning|penduduk asli|masyarakat adat|indigenen Völkern|Ureinwohner|paikallisia yhteisöjä|paikallinen yhteisö\"\n",
    "# df_indigenous = df_indigenous[df_indigenous['desc'].str.contains(indigenous, na=False)]\n",
    "# df_indigenous\n",
    "\n",
    "# # with pd.option_context('display.max_colwidth', None):\n",
    "# #     print(df_indigenous['desc'].head(10))"
   ]
  },
  {
   "cell_type": "markdown",
   "metadata": {},
   "source": [
    "### Classify all groupings"
   ]
  },
  {
   "cell_type": "code",
   "execution_count": null,
   "metadata": {},
   "outputs": [],
   "source": [
    "df_indigenous = pd.DataFrame(None)\n",
    "\n",
    "df_indigenous = full_data\n",
    "df_indigenous "
   ]
  },
  {
   "cell_type": "code",
   "execution_count": null,
   "metadata": {},
   "outputs": [],
   "source": [
    "df_indigenous['desc']=df_indigenous['desc'].apply(str)\n",
    "\n",
    "def callback_indigenous(text):\n",
    "    if re.search(\"Indigenous|Indigenous People|populations indigènes|peuples autochtones|autochtones|Indigènes|Pueblos indígenas|gente indígena|povo indígena|Pessoas indígenas|urfolk|urinvånare|ursprungsbefolkning|penduduk asli|masyarakat adat|indigenen Völkern|Ureinwohner|paikallisia yhteisöjä|paikallinen yhteisö\", text, re.IGNORECASE):\n",
    "        return 'Indigenous'\n",
    "        \n",
    "    else:\n",
    "        return None\n",
    "\n",
    "    return ''\n",
    "\n",
    "df_indigenous['indigenous'] = df_indigenous['desc'].apply(callback_indigenous)\n",
    "\n",
    "\n",
    "\n",
    "def callback_local(text):\n",
    "    if re.search(\"Local Community|Local communities|communauté locale|communautés locales|comunidad local|comunidades locales|comunidade local|comunidades locais|lokalsamfunn|lokalsamfunn|lokalsamhället|lokala samhällen|Komunitas lokal|masyarakat sekitar|Gemeinde|lokale Gemeinschaften|alkuperäiskansat|Alkuperäiset ihmiset|community lands|terre di comunità|コミュニティの土地|커뮤니티 땅|samfunnet lander|community lander|terras comunitárias|yhteisö mailla|terres communautaires|tierras comunitarias|nchi na jamii|gemenskap landar|Gemeindeflächen|vùng đất cộng đồng|lahan masyarakat\", text, re.IGNORECASE):\n",
    "        return 'Local Communities'\n",
    "        \n",
    "    else:\n",
    "        return None\n",
    "\n",
    "    return ''\n",
    "\n",
    "df_indigenous['local_communities'] = df_indigenous['desc'].apply(callback_local)\n",
    "\n",
    "\n",
    "def callback_governance(text):\n",
    "    if re.search(\"Governance|ガバナンス|통치|styresett|Governança|hallintotavan|gouvernance|Gobernancia|Utawala|styrning|Führung|quản trị|Tata Kelola|Land Governance|Terra Governance|土地ガバナンス|토지 지배 구조|land ledelse|Land Governance|Governança terra|maa hallintotapa|Gouvernance foncière|gobernanza de la tierra|Utawala Land|land Governance|Land Governance|Quản đất|Tata Kelola tanah|Forest Governance|Foresta Governance|森林ガバナンス|산림 거버넌스|Forest Governance|Forest Governance|Governança florestal|metsähallinnon|Gouvernance forestière|Gobernanza Forestal|Forest Utawala|Forest Governance|Wald Governance|Quản trị rừng|Tata Kelola hutan|Forest Management|gestione forestale|森林管理|산림 관리|skogbruks|Forest Management|Gestão florestal|Metsänhoitoyhdistys|La gestion des forêts|Gestión de bosques|Management Forest|skogsbruk|Forstamt|Quản lý rừng|Pengelolaan hutan|Internal Governance|Governance interna|内部統制|내부 지배 구조|Internal Governance|Intern Governance|Governança interna|sisäisen hallinnon|gouvernance interne|el Gobierno Interior|Utawala wa Ndani|intern styrning|Internal Governance|Quản trị nội bộ|Tata internal\", text, re.IGNORECASE):\n",
    "        return 'Governance'\n",
    "        \n",
    "    else:\n",
    "        return None\n",
    "\n",
    "    return ''\n",
    "\n",
    "df_indigenous['governance'] = df_indigenous['desc'].apply(callback_governance)\n",
    "\n",
    "\n",
    "def callback_climate(text):\n",
    "    if re.search(\"Climate Change|Cambiamento climatico|気候変動|기후 변화|Klima forandringer|Klima forandring|das Alterações Climáticas|Ilmastonmuutos|Changement climatique|Cambio climático|Mabadiliko ya tabianchi|Klimatförändring|Klimawandel|Khí hậu thay đổi|Perubahan iklim|Climate adaptation|adattamento climatico|気候適応|기후 적응|klimatilpasning|klimatilpasning|adaptação climática|ilmastonmuutokseen sopeutumisen|adaptation aux changements climatiques|La adaptación al clima|kukabiliana na hali ya hali ya hewa|klimatanpassning|Klimaanpassung|thích ứng khí hậu|adaptasi iklim|Climate mitigation|mitigazione del clima|気候緩和|기후 완화|Klima klimatiltak|Klima afbødning|mitigação do clima|ilmastonmuutoksen lieventämistä|atténuation des changements climatiques|mitigación del cambio climático|kukabiliana Climate|Klimat begränsning|Klimaschutz|giảm thiểu khí hậu|mitigasi iklim\", text, re.IGNORECASE):\n",
    "        return 'Climate'\n",
    "        \n",
    "    else:\n",
    "        return None\n",
    "\n",
    "    return ''\n",
    "\n",
    "df_indigenous['climate_change'] = df_indigenous['desc'].apply(callback_climate)\n",
    "\n",
    "\n",
    "def callback_rights(text):\n",
    "    if re.search(\"informal right|destra informale|非公式の権利|비공식적 권리|uformell riktig|uformel ret|direito informal|epävirallinen oikeassa|droit informel|derecho informal|haki isiyo rasmi|informell höger|informelles Recht|đúng không chính thức|benar informal yang|formal recognition|riconoscimento formale|正式な認識|공식 인정|formell anerkjennelse|formel anerkendelse|reconhecimento formal|virallista tunnustusta|reconnaissance formelle|reconocimiento formal|utambuzi rasmi|formellt erkännande|formelle Anerkennung|công nhận chính thức|pengakuan formal|formal recognition|riconoscimento formale|正式な認識|공식 인정|formell anerkjennelse|formel anerkendelse|reconhecimento formal|virallista tunnustusta|reconnaissance formelle|reconocimiento formal|utambuzi rasmi|formellt erkännande|formelle Anerkennung|công nhận chính thức|pengakuan formal|land rights|diritto alla terra|土地の権利|토지 권|landrettigheter|jordrettigheder|direitos da terra|maaoikeuksien|droits fonciers|derechos sobre la tierra|haki za ardhi|markrättigheter|Landrechte|Quyền sở hữu đất đai|hak atas tanah|resource rights|i diritti sulle risorse|リソース権|자원 권한|ressursrettigheter|rettigheder ressource|direitos de recursos|resurssi oikeudet|droits sur les ressources|derechos sobre los recursos|haki za rasilimali|resurs rättigheter|Nutzungsrechte|quyền tài nguyên|hak sumber daya|forest access|accesso foresta|森林のアクセス|숲 액세스|forest tilgang|adgang skov|acesso floresta|metsä pääsy|l'accès aux forêts|el acceso al bosque|upatikanaji wa misitu|skog tillgång|Wald Zugang|truy cập rừng|akses hutan|land access|accesso alla terra|土地へのアクセス|토지 액세스|land tilgang|adgang jord|acesso à terra|maaliikenneyhteydet|accès à la terre|acceso a la tierra|upatikanaji wa ardhi|tillgång mark|Landzugang|tiếp cận đất đai|akses tanah|resource access|accesso alle risorse|リソースへのアクセス|리소스 액세스|ressurstilgang|adgang ressource|acesso a recursos|resurssi pääsy|l'accès aux ressources|acceso a los recursos|upatikanaji wa rasilimali|tillgång resurs|Ressourcenzugriff|truy cập tài nguyên|akses sumber daya|customarily manage|gestire abitualmente|習慣的に管理|관례 관리|vanligvis administrere|sædvanligvis styre|habitualmente gerenciar|tavanomaisesti hallita|gérer habituellement|administrar habitualmente|desturi kusimamia|vanligen hantera|üblicherweise verwalten|phong tục quản lý|lazim mengelola|customary right|diritto consuetudinario|慣習的権利|관습 적 권리|sedvanerett|sædvanlige højre|direito costumeiro|tapana oikea|droit coutumier|derecho consuetudinario|haki za kimila|bruk höger|Gewohnheitsrecht|phong tục đúng|hak ulayat|land ownership|proprietà terriera|土地の所有権|토지 소유권|land eierskap|ejerskab jord|propriedade da terra|maanomistus|propriété foncière|propiedad de la tierra|umiliki wa ardhi|markägande|Landbesitz|quyền sở hữu đất đai|kepemilikan tanah|land right|terra a destra|土地の権利|토지 권리|land rett|jord højre|direito à terra|maa oikeassa|droit foncier|derecho a la tierra|haki ya ardhi|land rätt|Land Recht|quyền sử dụng đất|hak atas tanah|land rights|diritto alla terra|土地の権利|토지 권|landrettigheter|jordrettigheder|direitos da terra|maaoikeuksien|droits fonciers|derechos sobre la tierra|haki za ardhi|markrättigheter|Landrechte|Quyền sở hữu đất đai|hak atas tanah|Free, Prior and Informed Consent|FPIC|Consentement Préalable, donné Librement et en Connaissance de Cause|CPLCC|Consentimiento Libre, Previo e Informado|CLPI\", text, re.IGNORECASE):\n",
    "        return 'Rights'\n",
    "        \n",
    "    else:\n",
    "        return None\n",
    "\n",
    "    return ''\n",
    "\n",
    "df_indigenous['rights'] = df_indigenous['desc'].apply(callback_rights)\n",
    "\n",
    "\n",
    "def callback_tenure(text):\n",
    "    if re.search(\"Tenure|possesso|任期|보유|tenure|Ejerforholdet|mandato|hallintaoikeus|Mandat|Tenencia|Muda wa Utawala|tenure|Amtszeit|Nhiệm kỳ|Masa jabatan|Land Tenure|Godimento di una terra|土地所有|토지 보유|land Tenure|grunde Ejerforholdet|Posse de terra|maanomistus|Régime foncier|Tenencia de la tierra|ya ardhi|Besittningsrätt|Landbesitz|quyền sử dụng đất|pemilikan tanah\", text, re.IGNORECASE):\n",
    "        return 'Tenure'\n",
    "        \n",
    "    else:\n",
    "        return None\n",
    "\n",
    "    return ''\n",
    "\n",
    "df_indigenous['tenure'] = df_indigenous['desc'].apply(callback_tenure)\n",
    "\n",
    "\n",
    "def callback_territorial(text):\n",
    "    if re.search(\"Territorial|Territoriale|領土の|지방 수비병|territorial|Territorial|Territorial|alueellinen|Territorial|Territorial|eneo|Territoriell|territorial|lãnh thổ|Teritorial|Territorial management|gestione del territorio|領土管理|영토 관리|territorial ledelse|Territorial styring|gestão territorial|alueellinen hallinta|Aménagement du territoire|La gestión del territorio|usimamizi wa eneo|territoriell förvaltning|territoriale Verwaltung|quản lý lãnh thổ|manajemen teritorial\", text, re.IGNORECASE):\n",
    "        return 'Territorial'\n",
    "        \n",
    "    else:\n",
    "        return None\n",
    "\n",
    "    return ''\n",
    "\n",
    "df_indigenous['territorial'] = df_indigenous['desc'].apply(callback_territorial)\n",
    "\n",
    "\n",
    "def callback_forest(text):\n",
    "    if re.search(\"Forest|foresta|森林|숲|skog|Skov|Floresta|Metsä|Forêt|Bosque|Forest|Skog|Wald|rừng|Hutan|Community Forestry|forestale comunitaria|コミュニティ林業|커뮤니티 임업|Skogbruk samfunnet|skovbrug i lokalsamfundene|florestal comunitária|yhteisön Forestry|Communauté forestière|Forestal de la comunidad|Community Misitu|Community Forestry|Gemeinschaftsforst|Lâm nghiệp cộng đồng|Kehutanan masyarakat|Silviculture|Silvicoltura|造林|임학|skogkultur|Skovbrug|Silvicultura|metsänhoito|Sylviculture|Silvicultura|Utaratibu wa upanzi|Skogsbruk|Waldbau|sơn lâm học|kehutanan|Agroforestry|Agroforestry|アグロフォレストリー|농림업|agroskogbruk|Agroforestry|Agroflorestal|Peltometsäviljely|agroforesterie|agroforestería|Kilimo cha mseto|agroforestry|Agroforst|Nông lâm kết hợp|agroforestri|Non timber forest products|NTFP|prodotti forestali non legno|非木材林産物|비 목재 임산물|Ikke tømmer skogsprodukter|Ikke skovprodukter|produtos florestais não madeireiros|Non metsätuotteiden|produits forestiers non ligneux|productos forestales no maderables|mazao ya misitu yasiyo mbao|Non skogsprodukter|Nichtholzprodukte|lâm sản ngoài gỗ|hasil hutan non kayu\", text, re.IGNORECASE):\n",
    "        return 'Forests'\n",
    "        \n",
    "    else:\n",
    "        return None\n",
    "\n",
    "    return ''\n",
    "\n",
    "df_indigenous['forest'] = df_indigenous['desc'].apply(callback_forest)\n",
    "\n",
    "\n",
    "def callback_bio_conserv(text):\n",
    "    if re.search(\"Biodiversity|biodiversità|生物多様性|생물 다양성|Biologisk mangfold|biodiversitet|biodiversidade|biodiversiteetti|biodiversité|biodiversidad|viumbe hai|Biologisk mångfald|Biodiversität|Đa dạng sinh học|keanekaragaman hayati|Conservation|Conservazione|保全|보존|Bevaring|Bevarelse|Conservação|säilyttäminen|Préservation|Conservación|Hifadhi|Bevarande|Erhaltung|Sự bảo tồn|Konservasi|carbon|carbonio|炭素|탄소|karbon|kulstof|carbono|hiili|carbone|carbón|carbon|kol|Kohlenstoff|carbon|karbon|restoration|restauro|復元|복구|restaurering|restaurering|restauração|entisöinti|restauration|restauracion|marejesho|restaurering|Wiederherstellung|sự phục hồi|restorasi|protected area|area protetta|保護された領域|보호 지역|beskyttet område|beskyttet område|área protegida|suojelualueen|zone protégée|área protegida|eneo la hifadhi|skyddat område|geschützter Bereich|khu vực được bảo vệ|kawasan lindung|ecosystems|ecosistemi|生態系|생태계|økosystemer|økosystemer|ecossistemas|ekosysteemit|écosystèmes|ecosistemas|mazingira|ekosystem|Ökosysteme|hệ sinh thái|ekosistem\", text, re.IGNORECASE):\n",
    "        return 'Biodiversity'\n",
    "        \n",
    "    else:\n",
    "        return None\n",
    "\n",
    "    return ''\n",
    "\n",
    "df_indigenous['bio_conserv'] = df_indigenous['desc'].apply(callback_bio_conserv)\n",
    "\n",
    "\n",
    "def callback_redd(text):\n",
    "    if re.search(\"REDD|REDD\\+|Reducing emissions from deforestation and forest degradation|Verringerung von Emissionen aus Entwaldung und Waldschädigung|reducción de las emisiones de la deforestación y la degradación|réduction des émissions liées à la déforestation et à la dégradation|reducción de las emisiones de la deforestación y la degradación|Reduksi Emisi dari Deforestasi dan Degradasi Hutan|Redução de emissões decorrentes do desmatamento e da degradação|reduserte utslipp fra avskoging og skogforringelse|Deforestation|La deforestazione|伐採|삼림 벌채|Avskoging|Skovrydning|Desmatamento|metsäkadon|La déforestation|Deforestación|Ukataji miti|Avskogning|Deforestation|Nạn phá rừng|Penggundulan hutan|forest degredation|foresta degrado|森林degredation|숲 degredation|forest degredation|skov nedbrydning|degradação florestal|forest huonontumisen|degredation forestière|degradación de los bosques|degredation msitu|skog nedbrytning|Wald degredation|sự xuống cấp rừng|degradasi hutan\", text, re.IGNORECASE):\n",
    "        return 'REDD'\n",
    "        \n",
    "    else:\n",
    "        return None\n",
    "\n",
    "    return ''\n",
    "\n",
    "df_indigenous['redd'] = df_indigenous['desc'].apply(callback_redd)\n",
    "\n",
    "\n",
    "def callback_sus_land(text):\n",
    "    if re.search(\"Landscape|Paesaggio|ランドスケープ|경치|Landskap|Landskab|Panorama|Maisema|Paysage|Paisaje|mazingira ya|Landskap|Landschaft|Phong cảnh|Pemandangan|Sustainable landscape|paesaggio sostenibile|持続可能な風景|지속 가능한 풍경|bærekraftig landskapet|bæredygtig landskab|paisagem sustentável|Kestävä maisema|paysage durable|sostenible del paisaje|mazingira endelevu|hållbar landskap|Nachhaltige Landschaft|cảnh quan bền vững|lanskap berkelanjutan|sustainable forest|sostenibile delle foreste|持続可能な森林|지속 가능한 산림|bærekraftig skog|bæredygtig skov|florestal sustentável|kestävän metsätalouden|durable des forêts|sostenible de los bosques|msitu endelevu|hållbar skog|nachhaltiger Wald|rừng bền vững|hutan lestari|sustainable agricultural|sostenibile agricola|持続可能な農業|농업 지속|bærekraftig landbruks|bæredygtigt landbrug|agrícola sustentável|kestävän maatalouden|de l'agriculture durable|agrícola sostenible|endelevu ya kilimo|hållbart jordbruk|nachhaltige Landwirtschaft|bền vững nông nghiệp|berkelanjutan pertanian\", text, re.IGNORECASE):\n",
    "        return 'Sustainable'\n",
    "        \n",
    "    else:\n",
    "        return None\n",
    "\n",
    "    return ''\n",
    "\n",
    "df_indigenous['sus_lands'] = df_indigenous['desc'].apply(callback_sus_land)\n",
    "\n",
    "\n",
    "def callback_land_use(text):\n",
    "    if re.search(\"Land use|uso del suolo|土地の使用|토지 이용|arealbruk|Arealanvendelse|Uso da terra|Maankäyttö|L'utilisation des terres|Uso del suelo|Utumizi wa ardhi|Markanvändning|Bodennutzung|Sử dụng đất đai|Penggunaan lahan|Land use planning|Pianificazione dell'uso della terra|土地利用計画|토지 이용 계획|Arealplanlegging|Fysisk planlægning|ordenamento do território|Maankäytön suunnittelu|l'aménagement du territoire|La planificación del uso del suelo|kupanga matumizi ya ardhi|Planering av markanvändning|Bodennutzungsplanung|Quy hoạch sử dụng đất|perencanaan penggunaan lahan\", text, re.IGNORECASE):\n",
    "        return 'LU'\n",
    "        \n",
    "    else:\n",
    "        return None\n",
    "\n",
    "    return ''\n",
    "\n",
    "df_indigenous['land_use'] = df_indigenous['desc'].apply(callback_land_use)\n",
    "\n",
    "\n",
    "def callback_livelihoods(text):\n",
    "    if re.search(\"Livelihood|mezzi di sussistenza|生活|살림|Levebrød|Levebrød|sustento|toimeentulo|gagne-pain|Sustento|maisha|Levebröd|Lebensunterhalt|Kế sinh nhai|Mata pencaharian|community well-being|comunità di benessere|コミュニティの幸福|사회는 웰빙|samfunnet velvære|samfund velvære|comunidade bem-estar|Yhteisön hyvinvointi|bien-être communautaire|el bienestar de la comunidad|jamii ustawi|gemenskap välbefinnande|Gemeinschaft Wohlbefinden|cộng đồng hạnh phúc|masyarakat kesejahteraan|food security|sicurezza del cibo|食料安全保障|식량 안보|matsikkerhet|mad sikkerhed|comida segura|ruokaturvallisuus|la sécurité alimentaire|seguridad alimentaria|usalama wa chakula|matsäkerhet|Lebensmittelkontrolle|an toàn thực phẩm|ketahanan pangan\", text, re.IGNORECASE):\n",
    "        return 'Livelihoods'\n",
    "        \n",
    "    else:\n",
    "        return None\n",
    "\n",
    "    return ''\n",
    "\n",
    "df_indigenous['livelihoods'] = df_indigenous['desc'].apply(callback_livelihoods)\n",
    "\n",
    "\n",
    "def callback_negative(text):\n",
    "    if re.search(\" Road |Strada|道路|도로|Vei|Vej|Estrada|tie|Route|La carretera|Road|Väg|Straße|Đường|Jalan|Infrastructure|Infrastruttura|インフラ|하부 구조|infrastruktur|Infrastruktur|A infraestrutura|infrastruktuuri|Infrastructure|Infraestructura|miundombinu|Infrastruktur|Infrastruktur|cơ sở hạ tầng|Infrastruktur|War|Guerra|戦争|전쟁|Krig|Krig|Guerra|Sota|Guerre|Guerra|Vita|Krig|Krieg|chiến tranh|Perang|Highway|Autostrada|高速道路|고속도로|Hovedvei|hovedvej|Rodovia|Valtatie|Autoroute|Autopista|Highway|Motorväg|Autobahn|Xa lộ|Jalan raya|Displacement|Dislocamento|置換|배수량|Displacement|Displacement|Deslocamento|siirtymä|Déplacement|Desplazamiento|makazi yao|Förflyttning|Verschiebung|thay thế|Pemindahan|Resettle|stabilirsi|移住|다시 가라 앉히다|bosette|genbosætte|assentar|sijoittaa jhk|rétablir|Restablecer|kuwapatia makazi|FLYTTA|Umsiedeln|tái định cư|Menampung|Port|Porta|ポート|포트|Havn|Havn|Porta|portti|Port|Puerto| Port |Hamn|Hafen|Hải cảng|Pelabuhan|Shipping|spedizione|運送|배송|Shipping|Forsendelse|Remessa|laivaus|livraison|Envío|meli|Frakt|Versand|Đang chuyển hàng|pengiriman|Transport|Trasporto|輸送|수송|Transportere|Transportere|Transporte|Kuljetus|Transport|Transporte|Usafiri|Transport|Transport|Vận chuyển|Mengangkut|Natural Resource|Risorsa naturale|天然資源|천연 자원|Naturressurs|Naturressource|Recurso natural|Luonnonvara|Ressource naturelle|Recurso natural|Maliasili|Naturresurs|Natürliche Ressource|Tài nguyên thiên nhiên|sumber alam| Oil |Olio|油|기름|Olje|Olie|Óleo|Öljy|Pétrole|Petróleo|Oil|Olja|Öl|Dầu|Minyak|Gas|Gas|ガス|가스|Gass|Gas|Gás|kaasu|Gaz|Gas|Gas|Gas|Gas|Khí ga| Gas |mining|estrazione|採掘|채광|gruvedrift|minedrift|mineração|kaivostoiminta|exploitation minière|minería|madini|brytning|Bergbau|khai thác mỏ|pertambangan|logging|registrazione|ロギング|벌채 반출|hogst|logning|exploração madeireira|hakkuu|enregistrement|Inicio sesión|magogo|skogsavverkning|Protokollierung|khai thác gỗ|penebangan|timber production|produzione di legname|木材生産|목재 생산|trevirke produksjon|træproduktion|produção de madeira|puutavaran tuotanto|la production de bois|la producción de madera|uzalishaji wa mbao|virkesproduktion|Holzproduktion|sản xuất gỗ|produksi kayu\", text, re.IGNORECASE):\n",
    "        return 'Negative'\n",
    "        \n",
    "    else:\n",
    "        return None\n",
    "\n",
    "    return ''\n",
    "\n",
    "df_indigenous['negative'] = df_indigenous['desc'].apply(callback_negative)\n",
    "\n",
    "df_indigenous.to_csv('df_booled2.csv', index=False)  \n"
   ]
  },
  {
   "cell_type": "code",
   "execution_count": null,
   "metadata": {},
   "outputs": [],
   "source": [
    "df_indigenous = pd.read_csv('df_booled2.csv', sep=',', error_bad_lines=False, index_col=False, dtype=str)\n",
    "df_indigenous"
   ]
  },
  {
   "cell_type": "code",
   "execution_count": null,
   "metadata": {},
   "outputs": [],
   "source": [
    "# df_indigenous.to_csv('df_booled.csv', index=False)  \n",
    "\n",
    "# df_indigenous_backup = df_indigenous\n",
    "df_indigenous_backup"
   ]
  },
  {
   "cell_type": "code",
   "execution_count": null,
   "metadata": {},
   "outputs": [],
   "source": [
    "df_indigenous['recipient_country']=df_indigenous['recipient_country'].apply(str)\n",
    "\n",
    "def callback(text):\n",
    "    if re.search(\"Africa, regional|South of Sahara, regional|North & Central America, regional|South America, regional|West Indies, regional|South Asia, regional|Far East Asia, regional|Oceania, regional|Africa|South America|Algeria|Agalega Islands|American Samoa|Andaman and Nicobar Islands|Angola|Anguilla|Antigua and Barbuda|Australia|Bahamas|Bangladesh|Barbados|Belize|Benin|Bermuda|Bolivia|Botswana|Bougainville|Brazil|British Indian Ocean Territory (Chagos Archipelago)|British Virgin Islands|Brunei|Burkina Faso|Burma|Burundi|Cameroon|Canton and Enderbury Islands|Cape Verde|Cargados Carajos|Caroline Islands|Cayman Islands|Central African Republic|Chad|Chile|China|Christmas Islands|Clipperton Islands|Coca, Isla del|Coco Islands|Cocos Islands|Colombia|Comoro Islands|Congo|Cook Islands|Coral Sea Islands|Costa Rica|Cuba|D Entrecasteaux Islands|Djibouti|Dominica|Dominican Republic|Easter Island|Ecuador|Egypt|El Salvador|Equatorial Guinea|Ethiopia|Fiji|French Guiana|Gabon|Galápagos Islands|Gambia|Gambier Islands|Ghana|Glorieuses, Iles|Grenada|Guadeloupe and Martinique|Guam|Guatemala|Guinea|Guinea-Bissau|Guyana|Haiti|Hawaii|Honduras|Hong Kong|India|Indonesia|Ivory Coast|Jamaica|Johnston Island|Kampuchea|Kenya|Kiribati|Lakshadweep|Laos|Liberia|Louisiade Archipelago|Lybia|Macau|Madagascar|Malawi|Malaysia|Maldives|Mali|Mariana Islands|Marquesas Islands|Marshall Islands|Mauritania|Mauritius|Mexico|Montserrat|Mozambique|Namibia|Nauru|Navassa Islands|Netherlands Antilles|New Caledonia|Nicaragua|Niger|Nigeria|Niue|Oman|Panama|Papua New Guinea|Paraguay|Peru|Philippines|Pitcairn Islands|Puerto Rico|Réunion|Rodrigues|Rwanda|Sao Tomé and Príncipe|Saudi Arabia|Senegal|Seychelles|Sierra Leone|Singapore|Society Islands|Socotra|Solomon Islands|Somalia|Sri Lanka|St Kitts-Nevis|St Lucia|St Vincent|Sudan|Suriname|Taiwan|Tanzania|Thailand|Togo|Tokelau|Tonga Trinidad and Tobago|Trobriand Islands|Tromelin|Tuamotu Archipelago|Tubuai|Turks and Caicos Islands|Tuvalu|Uganda|United Arab Emirates|Virgin Islands|Vanuatu|Venezuela|Venezuela: Islands Vietnam|Wake Island|Wallis and Futuna|Western Sahara|Western Samoa|Yemen Arab Republic|Yemen, Democratic|Zaire|Zambia|Zimbabwe\", text, re.IGNORECASE):\n",
    "        return 'Tropical'\n",
    "    \n",
    "    if re.search(\"'DZ'|'AS'|'AO'|'AI'|'AG'|'AU'|'BS'|'BD'|'BB'|'BZ'|'BJ'|'BM'|'BO'|'BW'|'BR'|'IO'|'BN'|'BF'|'BI'|'CM'|'KY'|'CF'|'TD'|'CL'|'CN'|'CO'|'CG'|'CD'|'CK'|'CR'|'CU'|'DJ'|'DM'|'DO'|'EC'|'EG'|'SV'|'GQ'|'ET'|'FJ'|'GF'|'GA'|'GM'|'GH'|'GD'|'GU'|'GT'|'GN'|'GW'|'GY'|'HT'|'HN'|'HK'|'IN'|'ID'|'JM'|'KE'|'KI'|'LR'|'MG'|'MW'|'MY'|'MV'|'ML'|'MH'|'MR'|'MU'|'MX'|'MS'|'MZ'|'NR'|'NC'|'NI'|'NE'|'NG'|'NU'|'MP'|'OM'|'PA'|'PG'|'PY'|'PE'|'PH'|'PR'|'RE'|'RO'|'RW'|'SA'|'SN'|'SC'|'SL'|'SG'|'SB'|'SO'|'ZA'|'SS'|'LK'|'SD'|'SR'|'TW'|'TZ'|'TH'|'TG'|'TK'|'TC'|'TV'|'UG'|'AE'|'VU'|'VE'|'WF'|'EH'|'ZM'|'ZW'|'298'|'289'|'389'|'489'|'380'|'679'|'789'|'889'\", text, re.IGNORECASE):\n",
    "        return 'Tropical'\n",
    "    \n",
    "    if re.search(\"Global\", text, re.IGNORECASE):\n",
    "        return 'Global'\n",
    "    \n",
    "    if re.search('nan', text, re.IGNORECASE):\n",
    "        return 'Unknown'\n",
    "    \n",
    "    if re.search('United States|New York, New York|Los Angeles, California|Chicago, Illinois|Houston, Texas|Philadelphia, Pennsylvania|Phoenix, Arizona|San Antonio, Texas|San Diego, California|Dallas, Texas|San Jose, California|Austin, Texas|Indianapolis, Indiana|Jacksonville, Florida|San Francisco, California|Columbus, Ohio|Charlotte, North Carolina|Fort Worth, Texas|Detroit, Michigan|El Paso, Texas|Memphis, Tennessee|Seattle, Washington|Denver, Colorado|Washington, District of Columbia|Boston, Massachusetts|Nashville-Davidson, Tennessee|Baltimore, Maryland|Oklahoma City, Oklahoma|Louisville/Jefferson County, Kentucky|Portland, Oregon|Las Vegas, Nevada|Milwaukee, Wisconsin|Albuquerque, New Mexico|Tucson, Arizona|Fresno, California|Sacramento, California|Long Beach, California|Kansas City, Missouri|Mesa, Arizona|Virginia Beach, Virginia|Atlanta, Georgia|Colorado Springs, Colorado|Omaha, Nebraska|Raleigh, North Carolina|Miami, Florida|Oakland, California|Minneapolis, Minnesota|Tulsa, Oklahoma|Cleveland, Ohio|Wichita, Kansas|Arlington, Texas|New Orleans, Louisiana|Bakersfield, California|Tampa, Florida|Honolulu, Hawaii|Aurora, Colorado|Anaheim, California|Santa Ana, California|St. Louis, Missouri|Riverside, California|Corpus Christi, Texas|Lexington-Fayette, Kentucky|Pittsburgh, Pennsylvania|Anchorage, Alaska|Stockton, California|Cincinnati, Ohio|St. Paul, Minnesota|Toledo, Ohio|Greensboro, North Carolina|Newark, New Jersey|Plano, Texas|Henderson, Nevada|Lincoln, Nebraska|Buffalo, New York|Jersey City, New Jersey|Chula Vista, California|Fort Wayne, Indiana|Orlando, Florida|St. Petersburg, Florida|Chandler, Arizona|Laredo, Texas|Norfolk, Virginia|Durham, North Carolina|Madison, Wisconsin|Lubbock, Texas|Irvine, California|Winston-Salem, North Carolina|Glendale, Arizona|Garland, Texas|Hialeah, Florida|Reno, Nevada|Chesapeake, Virginia|Gilbert, Arizona|Baton Rouge, Louisiana|Irving, Texas|Scottsdale, Arizona|North Las Vegas, Nevada|Fremont, California|Boise City, Idaho|Richmond, Virginia|San Bernardino, California|Birmingham, Alabama|Spokane, Washington|Rochester, New York|Des Moines, Iowa|Modesto, California|Fayetteville, North Carolina|Tacoma, Washington|Oxnard, California|Fontana, California|Columbus, Georgia|Montgomery, Alabama|Moreno Valley, California|Shreveport, Louisiana|Aurora, Illinois|Yonkers, New York|Akron, Ohio|Huntington Beach, California|Little Rock, Arkansas|Augusta-Richmond County, Georgia|Amarillo, Texas|Glendale, California|Mobile, Alabama|Grand Rapids, Michigan|Salt Lake City, Utah|Tallahassee, Florida|Huntsville, Alabama|Grand Prairie, Texas|Knoxville, Tennessee|Worcester, Massachusetts|Newport News, Virginia|Brownsville, Texas|Overland Park, Kansas|Santa Clarita, California|Providence, Rhode Island|Garden Grove, California|Chattanooga, Tennessee|Oceanside, California|Jackson, Mississippi|Fort Lauderdale, Florida|Santa Rosa, California|Rancho Cucamonga, California|Port St. Lucie, Florida|Tempe, Arizona|Ontario, California|Vancouver, Washington|Cape Coral, Florida|Sioux Falls, South Dakota|Springfield, Missouri|Peoria, Arizona|Pembroke Pines, Florida|Elk Grove, California|Salem, Oregon|Lancaster, California|Corona, California|Eugene, Oregon|Palmdale, California|Salinas, California|Springfield, Massachusetts|Pasadena, Texas|Fort Collins, Colorado|Hayward, California|Pomona, California|Cary, North Carolina|Rockford, Illinois|Alexandria, Virginia|Escondido, California|McKinney, Texas|Kansas City, Kansas|Joliet, Illinois|Sunnyvale, California|Torrance, California|Bridgeport, Connecticut|Lakewood, Colorado|Hollywood, Florida|Paterson, New Jersey|Naperville, Illinois|Syracuse, New York|Mesquite, Texas|Dayton, Ohio|Savannah, Georgia|Clarksville, Tennessee|Orange, California|Pasadena, California|Fullerton, California|Killeen, Texas|Frisco, Texas|Hampton, Virginia|McAllen, Texas|Warren, Michigan|Bellevue, Washington|West Valley City, Utah|Columbia, South Carolina|Olathe, Kansas|Sterling Heights, Michigan|New Haven, Connecticut|Miramar, Florida|Waco, Texas|Thousand Oaks, California|Cedar Rapids, Iowa|Charleston, South Carolina|Visalia, California|Topeka, Kansas|Elizabeth, New Jersey|Gainesville, Florida|Thornton, Colorado|Roseville, California|Carrollton, Texas|Coral Springs, Florida|Stamford, Connecticut|Simi Valley, California|Concord, California|Hartford, Connecticut|Kent, Washington|Lafayette, Louisiana|Midland, Texas|Surprise, Arizona|Denton, Texas|Victorville, California|Evansville, Indiana|Santa Clara, California|Abilene, Texas|Athens-Clarke County, Georgia|Vallejo, California|Allentown, Pennsylvania|Norman, Oklahoma|Beaumont, Texas|Independence, Missouri|Murfreesboro, Tennessee|Ann Arbor, Michigan|Springfield, Illinois|Berkeley, California|Peoria, Illinois|Provo, Utah|El Monte, California|Columbia, Missouri|Lansing, Michigan|Fargo, North Dakota|Downey, California|Costa Mesa, California|Wilmington, North Carolina|Arvada, Colorado|Inglewood, California|Miami Gardens, Florida|Carlsbad, California|Westminster, Colorado', text, re.IGNORECASE):\n",
    "        return 'United States'\n",
    "        \n",
    "    else:\n",
    "        return 'Not Tropical'\n",
    "\n",
    "    return ''\n",
    "\n",
    "\n",
    "df_indigenous['tropical_country'] = df_indigenous['recipient_country'].apply(callback)\n",
    "df_indigenous"
   ]
  },
  {
   "cell_type": "code",
   "execution_count": null,
   "metadata": {},
   "outputs": [],
   "source": [
    "df_indigenous['recipient_region']=df_indigenous['recipient_region'].apply(str)\n",
    "\n",
    "def callback(text):\n",
    "    if re.search(\"Africa, regional|South of Sahara, regional|North & Central America, regional|South America, regional|West Indies, regional|South Asia, regional|Far East Asia, regional|Oceania, regional|Africa|South America|Algeria|Agalega Islands|American Samoa|Andaman and Nicobar Islands|Angola|Anguilla|Antigua and Barbuda|Australia|Bahamas|Bangladesh|Barbados|Belize|Benin|Bermuda|Bolivia|Botswana|Bougainville|Brazil|British Indian Ocean Territory (Chagos Archipelago)|British Virgin Islands|Brunei|Burkina Faso|Burma|Burundi|Cameroon|Canton and Enderbury Islands|Cape Verde|Cargados Carajos|Caroline Islands|Cayman Islands|Central African Republic|Chad|Chile|China|Christmas Islands|Clipperton Islands|Coca, Isla del|Coco Islands|Cocos Islands|Colombia|Comoro Islands|Congo|Cook Islands|Coral Sea Islands|Costa Rica|Cuba|D Entrecasteaux Islands|Djibouti|Dominica|Dominican Republic|Easter Island|Ecuador|Egypt|El Salvador|Equatorial Guinea|Ethiopia|Fiji|French Guiana|Gabon|Galápagos Islands|Gambia|Gambier Islands|Ghana|Glorieuses, Iles|Grenada|Guadeloupe and Martinique|Guam|Guatemala|Guinea|Guinea-Bissau|Guyana|Haiti|Hawaii|Honduras|Hong Kong|India|Indonesia|Ivory Coast|Jamaica|Johnston Island|Kampuchea|Kenya|Kiribati|Lakshadweep|Laos|Liberia|Louisiade Archipelago|Lybia|Macau|Madagascar|Malawi|Malaysia|Maldives|Mali|Mariana Islands|Marquesas Islands|Marshall Islands|Mauritania|Mauritius|Mexico|Montserrat|Mozambique|Namibia|Nauru|Navassa Islands|Netherlands Antilles|New Caledonia|Nicaragua|Niger|Nigeria|Niue|Oman|Panama|Papua New Guinea|Paraguay|Peru|Philippines|Pitcairn Islands|Puerto Rico|Réunion|Rodrigues|Rwanda|Sao Tomé and Príncipe|Saudi Arabia|Senegal|Seychelles|Sierra Leone|Singapore|Society Islands|Socotra|Solomon Islands|Somalia|Sri Lanka|St Kitts-Nevis|St Lucia|St Vincent|Sudan|Suriname|Taiwan|Tanzania|Thailand|Togo|Tokelau|Tonga Trinidad and Tobago|Trobriand Islands|Tromelin|Tuamotu Archipelago|Tubuai|Turks and Caicos Islands|Tuvalu|Uganda|United Arab Emirates|Virgin Islands|Vanuatu|Venezuela|Venezuela: Islands Vietnam|Wake Island|Wallis and Futuna|Western Sahara|Western Samoa|Yemen Arab Republic|Yemen, Democratic|Zaire|Zambia|Zimbabwe\", text, re.IGNORECASE):\n",
    "        return 'Tropical'\n",
    "    \n",
    "    if re.search(\"'298'|'289'|'389'|'489'|'380'|'679'|'789'|'889'\", text, re.IGNORECASE):\n",
    "        return 'Tropical'\n",
    "    \n",
    "    if re.search(\"Global\", text, re.IGNORECASE):\n",
    "        return 'Global'\n",
    "    \n",
    "    if re.search('nan', text, re.IGNORECASE):\n",
    "        return 'Unknown'\n",
    "    \n",
    "    if re.search('United States|New York, New York|Los Angeles, California|Chicago, Illinois|Houston, Texas|Philadelphia, Pennsylvania|Phoenix, Arizona|San Antonio, Texas|San Diego, California|Dallas, Texas|San Jose, California|Austin, Texas|Indianapolis, Indiana|Jacksonville, Florida|San Francisco, California|Columbus, Ohio|Charlotte, North Carolina|Fort Worth, Texas|Detroit, Michigan|El Paso, Texas|Memphis, Tennessee|Seattle, Washington|Denver, Colorado|Washington, District of Columbia|Boston, Massachusetts|Nashville-Davidson, Tennessee|Baltimore, Maryland|Oklahoma City, Oklahoma|Louisville/Jefferson County, Kentucky|Portland, Oregon|Las Vegas, Nevada|Milwaukee, Wisconsin|Albuquerque, New Mexico|Tucson, Arizona|Fresno, California|Sacramento, California|Long Beach, California|Kansas City, Missouri|Mesa, Arizona|Virginia Beach, Virginia|Atlanta, Georgia|Colorado Springs, Colorado|Omaha, Nebraska|Raleigh, North Carolina|Miami, Florida|Oakland, California|Minneapolis, Minnesota|Tulsa, Oklahoma|Cleveland, Ohio|Wichita, Kansas|Arlington, Texas|New Orleans, Louisiana|Bakersfield, California|Tampa, Florida|Honolulu, Hawaii|Aurora, Colorado|Anaheim, California|Santa Ana, California|St. Louis, Missouri|Riverside, California|Corpus Christi, Texas|Lexington-Fayette, Kentucky|Pittsburgh, Pennsylvania|Anchorage, Alaska|Stockton, California|Cincinnati, Ohio|St. Paul, Minnesota|Toledo, Ohio|Greensboro, North Carolina|Newark, New Jersey|Plano, Texas|Henderson, Nevada|Lincoln, Nebraska|Buffalo, New York|Jersey City, New Jersey|Chula Vista, California|Fort Wayne, Indiana|Orlando, Florida|St. Petersburg, Florida|Chandler, Arizona|Laredo, Texas|Norfolk, Virginia|Durham, North Carolina|Madison, Wisconsin|Lubbock, Texas|Irvine, California|Winston-Salem, North Carolina|Glendale, Arizona|Garland, Texas|Hialeah, Florida|Reno, Nevada|Chesapeake, Virginia|Gilbert, Arizona|Baton Rouge, Louisiana|Irving, Texas|Scottsdale, Arizona|North Las Vegas, Nevada|Fremont, California|Boise City, Idaho|Richmond, Virginia|San Bernardino, California|Birmingham, Alabama|Spokane, Washington|Rochester, New York|Des Moines, Iowa|Modesto, California|Fayetteville, North Carolina|Tacoma, Washington|Oxnard, California|Fontana, California|Columbus, Georgia|Montgomery, Alabama|Moreno Valley, California|Shreveport, Louisiana|Aurora, Illinois|Yonkers, New York|Akron, Ohio|Huntington Beach, California|Little Rock, Arkansas|Augusta-Richmond County, Georgia|Amarillo, Texas|Glendale, California|Mobile, Alabama|Grand Rapids, Michigan|Salt Lake City, Utah|Tallahassee, Florida|Huntsville, Alabama|Grand Prairie, Texas|Knoxville, Tennessee|Worcester, Massachusetts|Newport News, Virginia|Brownsville, Texas|Overland Park, Kansas|Santa Clarita, California|Providence, Rhode Island|Garden Grove, California|Chattanooga, Tennessee|Oceanside, California|Jackson, Mississippi|Fort Lauderdale, Florida|Santa Rosa, California|Rancho Cucamonga, California|Port St. Lucie, Florida|Tempe, Arizona|Ontario, California|Vancouver, Washington|Cape Coral, Florida|Sioux Falls, South Dakota|Springfield, Missouri|Peoria, Arizona|Pembroke Pines, Florida|Elk Grove, California|Salem, Oregon|Lancaster, California|Corona, California|Eugene, Oregon|Palmdale, California|Salinas, California|Springfield, Massachusetts|Pasadena, Texas|Fort Collins, Colorado|Hayward, California|Pomona, California|Cary, North Carolina|Rockford, Illinois|Alexandria, Virginia|Escondido, California|McKinney, Texas|Kansas City, Kansas|Joliet, Illinois|Sunnyvale, California|Torrance, California|Bridgeport, Connecticut|Lakewood, Colorado|Hollywood, Florida|Paterson, New Jersey|Naperville, Illinois|Syracuse, New York|Mesquite, Texas|Dayton, Ohio|Savannah, Georgia|Clarksville, Tennessee|Orange, California|Pasadena, California|Fullerton, California|Killeen, Texas|Frisco, Texas|Hampton, Virginia|McAllen, Texas|Warren, Michigan|Bellevue, Washington|West Valley City, Utah|Columbia, South Carolina|Olathe, Kansas|Sterling Heights, Michigan|New Haven, Connecticut|Miramar, Florida|Waco, Texas|Thousand Oaks, California|Cedar Rapids, Iowa|Charleston, South Carolina|Visalia, California|Topeka, Kansas|Elizabeth, New Jersey|Gainesville, Florida|Thornton, Colorado|Roseville, California|Carrollton, Texas|Coral Springs, Florida|Stamford, Connecticut|Simi Valley, California|Concord, California|Hartford, Connecticut|Kent, Washington|Lafayette, Louisiana|Midland, Texas|Surprise, Arizona|Denton, Texas|Victorville, California|Evansville, Indiana|Santa Clara, California|Abilene, Texas|Athens-Clarke County, Georgia|Vallejo, California|Allentown, Pennsylvania|Norman, Oklahoma|Beaumont, Texas|Independence, Missouri|Murfreesboro, Tennessee|Ann Arbor, Michigan|Springfield, Illinois|Berkeley, California|Peoria, Illinois|Provo, Utah|El Monte, California|Columbia, Missouri|Lansing, Michigan|Fargo, North Dakota|Downey, California|Costa Mesa, California|Wilmington, North Carolina|Arvada, Colorado|Inglewood, California|Miami Gardens, Florida|Carlsbad, California|Westminster, Colorado', text, re.IGNORECASE):\n",
    "        return 'United States'\n",
    "        \n",
    "    else:\n",
    "        return 'Not Tropical'\n",
    "\n",
    "    return ''\n",
    "\n",
    "df_indigenous['tropical_region'] = df_indigenous['recipient_region'].apply(callback)\n",
    "df_indigenous"
   ]
  },
  {
   "cell_type": "code",
   "execution_count": null,
   "metadata": {
    "scrolled": false
   },
   "outputs": [],
   "source": [
    "# df_indigenous.loc[df_indigenous['lat_long'] != 'NaN']\n",
    "\n",
    "lat_long_df = df_indigenous[df_indigenous['lat_long'].notna() ] \n",
    "\n",
    "def first2(s):\n",
    "    return s[1:200,:2]\n",
    "\n",
    "\n",
    "df_indigenous['lat'] = df_indigenous['lat_long'].astype(str).str[0:3]\n",
    "df_indigenous['lat'].replace('nan', np.nan)\n",
    "\n",
    "df_indigenous['lat'] = pd.to_numeric(df_indigenous['lat'], errors='coerce')\n",
    "\n",
    "bins = [-23.436200, -23.436100, 23.436100,  23.436200]\n",
    "names = ['Not Tropical', 'Tropical', 'Tropical',  'Not Tropical']\n",
    "\n",
    "d = dict(enumerate(names, 1))\n",
    "\n",
    "df_indigenous['tropical_latlong'] = np.vectorize(d.get)(np.digitize(df_indigenous['lat'], bins))\n",
    "\n",
    "df_indigenous.head(10000)\n"
   ]
  },
  {
   "cell_type": "code",
   "execution_count": null,
   "metadata": {},
   "outputs": [],
   "source": [
    "# df_indigenous.loc[df_indigenous['Tropical_Region'] == 'Tropical']\n",
    "\n",
    "df_indigenous_tropical = df_indigenous[(df_indigenous['tropical_country'] == 'Tropical') | (df_indigenous['tropical_latlong'] == 'Tropical') |  (df_indigenous['tropical_region'] == 'Tropical')]\n",
    "df_indigenous_tropical.head(100)"
   ]
  },
  {
   "cell_type": "code",
   "execution_count": null,
   "metadata": {},
   "outputs": [],
   "source": [
    "df_indigenous_backup2 = df_indigenous_backup\n"
   ]
  },
  {
   "cell_type": "markdown",
   "metadata": {},
   "source": [
    "### Handling the Transaction Types"
   ]
  },
  {
   "cell_type": "code",
   "execution_count": null,
   "metadata": {},
   "outputs": [],
   "source": [
    "#Handling transactions first\n",
    "\n",
    "df_base_tropical_full = df_indigenous_tropical\n",
    "df_base_tropical_full['trans_type']=df_base_tropical_full['trans_type'].apply(str)\n",
    "\n",
    "df_base_tropical_full['trans_type'] = df_base_tropical_full['trans_type'].replace({'D':'Disbursement', '3':'Disbursement', 'C':'Commitment', '2':'Commitment', 'nan':'Disbursement'})\n",
    "df_base_tropical_full_C = df_base_tropical_full.loc[df_base_tropical_full['trans_type'] == 'Commitment']\n",
    "df_base_tropical_full_D = df_base_tropical_full.loc[df_base_tropical_full['trans_type'] == 'Disbursement']\n"
   ]
  },
  {
   "cell_type": "code",
   "execution_count": null,
   "metadata": {},
   "outputs": [],
   "source": []
  },
  {
   "cell_type": "code",
   "execution_count": null,
   "metadata": {},
   "outputs": [],
   "source": [
    "##Clip negative numbers\n",
    "df_base_tropical_full_C['adj_usd_val'] = pd.to_numeric(df_base_tropical_full_C['adj_usd_val'])\n",
    "df_base_tropical_full_D['adj_usd_val'] = pd.to_numeric(df_base_tropical_full_D['adj_usd_val'])\n",
    "\n",
    "cols = ['adj_usd_val']\n",
    "df_base_tropical_full_C[cols] = df_base_tropical_full_C[df_base_tropical_full_C[cols] > 0][cols]\n",
    "df_base_tropical_full_D[cols] = df_base_tropical_full_D[df_base_tropical_full_D[cols] > 0][cols]\n",
    "\n",
    "\n",
    "\n",
    "\n"
   ]
  },
  {
   "cell_type": "code",
   "execution_count": null,
   "metadata": {},
   "outputs": [],
   "source": [
    "df_base_tropical_full_C['adj_usd_val'].sum()\n"
   ]
  },
  {
   "cell_type": "code",
   "execution_count": null,
   "metadata": {},
   "outputs": [],
   "source": [
    "mask = None\n",
    "mask = (df_base_tropical_full_C['val_date'] > '2010-1-1') & (df_base_tropical_full_C['val_date'] <= '2020-12-1')\n",
    "\n",
    "df_base_tropical_full_C = df_base_tropical_full_C.loc[mask]\n",
    "df_base_tropical_full_C"
   ]
  },
  {
   "cell_type": "code",
   "execution_count": null,
   "metadata": {},
   "outputs": [],
   "source": [
    "##Mask dates\n",
    "\n",
    "# mask = (df_base_tropical_full_C['val_date'] > '2010-1-1') & (df_base_tropical_full_C['val_date'] <= '2020-12-1')\n",
    "\n",
    "# df_base_tropical_full_C = df_base_tropical_full_C.loc[mask]\n",
    "\n",
    "mask = (df_base_tropical_full_D['val_date'] > '2010-1-1') & (df_base_tropical_full_D['val_date'] <= '2020-12-1')\n",
    "\n",
    "df_base_tropical_full_D = df_base_tropical_full_D.loc[mask]\n",
    "df_base_tropical_full_D"
   ]
  },
  {
   "cell_type": "code",
   "execution_count": null,
   "metadata": {},
   "outputs": [],
   "source": [
    "fig = go.Figure()\n",
    "for org, group in df_base_tropical_full_C.groupby(\"rep_org\"):\n",
    "    fig.add_trace(go.Scattergl(x=group[\"val_date\"], y=group[\"adj_usd_val\"], name=org, mode='markers', text=group[\"id\"]))\n",
    "    \n",
    "fig.update_layout(legend_title_text = \"Indigenous* Transactions\", autosize=True, width=1000, height=1000,legend=dict(orientation=\"h\"))\n",
    "\n",
    "fig.show()\n",
    "\n",
    "# sum_yr_df_base_tropical_full_D = []\n",
    "# sum_yr_all_df_base_tropical_full_D = []\n",
    "\n",
    "# sum_yr_df_base_tropical_full_D = df_base_tropical_full_D.reset_index().set_index(pd.DatetimeIndex(df_base_tropical_full_D['val_date'])).groupby(['rep_org',pd.Grouper(freq='Y')])['adj_usd_val'].sum().reset_index(name='Val')\n",
    "# sum_yr_all_df_base_tropical_full_D = df_base_tropical_full_D.reset_index().set_index(pd.DatetimeIndex(df_base_tropical_full_D['val_date'])).groupby([pd.Grouper(freq='Y')])['adj_usd_val'].sum().reset_index(name='Val')\n",
    "\n",
    "# sum_yr_df_base_tropical_full_C = []\n",
    "# sum_yr_all_df_base_tropical_full_C = []\n",
    "\n",
    "# sum_yr_df_base_tropical_full_C = df_base_tropical_full_C.reset_index().set_index(pd.DatetimeIndex(df_base_tropical_full_C['val_date'])).groupby(['rep_org',pd.Grouper(freq='Y')])['adj_usd_val'].sum().reset_index(name='Val')\n",
    "# sum_yr_all_df_base_tropical_full_C = df_base_tropical_full_C.reset_index().set_index(pd.DatetimeIndex(df_base_tropical_full_C['val_date'])).groupby([pd.Grouper(freq='Y')])['adj_usd_val'].sum().reset_index(name='Val')\n",
    "\n",
    "\n",
    "\n",
    "# fig = go.Figure()\n",
    "# for org, group in sum_yr_df_base_tropical_full_C.groupby(\"rep_org\"):\n",
    "#     fig.add_trace(go.Scattergl(x=group[\"val_date\"], y=group[\"Val\"], name=org))\n",
    "    \n",
    "# fig.add_trace(go.Scattergl(x=sum_yr_all_df_base_tropical_full_C[\"val_date\"], y=sum_yr_all_df_base_tropical_full_C[\"Val\"], name=\"All\"))\n",
    "# fig.update_layout(legend_title_text = \"Indigenous* Transactions\", autosize=True, width=1000, height=1000,legend=dict(orientation=\"h\"))\n",
    "# fig.show()\n",
    "# pd.set_option('display.max_rows', 1100)\n",
    "\n",
    "# sum_yr_df_base_tropical_full_D\n",
    "\n",
    "\n",
    "\n",
    "\n",
    "\n",
    "\n"
   ]
  },
  {
   "cell_type": "code",
   "execution_count": null,
   "metadata": {},
   "outputs": [],
   "source": [
    "df_indigenous_tropical_full_C = df_base_tropical_full_C.loc[df_base_tropical_full_C['indigenous'] == 'Indigenous']\n",
    "df_indigenous_tropical_full_D = df_base_tropical_full_D.loc[df_base_tropical_full_D['indigenous'] == 'Indigenous']\n",
    "\n",
    "df_local_communities_tropical_full_C = df_base_tropical_full_C.loc[df_base_tropical_full_C['local_communities'] == 'Local Communities']\n",
    "df_local_communities_tropical_full_D = df_base_tropical_full_D.loc[df_base_tropical_full_D['local_communities'] == 'Local Communities']\n",
    "\n",
    "df_governance_tropical_full_C = df_base_tropical_full_C.loc[df_base_tropical_full_C['governance'] == 'Governance']\n",
    "df_governance_tropical_full_D = df_base_tropical_full_D.loc[df_base_tropical_full_D['governance'] == 'Governance']\n",
    "\n",
    "df_climate_change_tropical_full_C = df_base_tropical_full_C.loc[df_base_tropical_full_C['climate_change'] == 'Climate']\n",
    "df_climate_change_tropical_full_D = df_base_tropical_full_D.loc[df_base_tropical_full_D['climate_change'] == 'Climate']\n",
    "\n",
    "df_rights_tropical_full_C = df_base_tropical_full_C.loc[df_base_tropical_full_C['rights'] == 'Rights']\n",
    "df_rights_tropical_full_D = df_base_tropical_full_D.loc[df_base_tropical_full_D['rights'] == 'Rights']\n",
    "\n",
    "df_tenure_tropical_full_C = df_base_tropical_full_C.loc[df_base_tropical_full_C['tenure'] == 'Tenure']\n",
    "df_tenure_tropical_full_D = df_base_tropical_full_D.loc[df_base_tropical_full_D['tenure'] == 'Tenure']\n",
    "\n",
    "df_territorial_tropical_full_C = df_base_tropical_full_C.loc[df_base_tropical_full_C['territorial'] == 'Territorial']\n",
    "df_territorial_tropical_full_D = df_base_tropical_full_D.loc[df_base_tropical_full_D['territorial'] == 'Territorial']\n",
    "\n",
    "df_forest_tropical_full_C = df_base_tropical_full_C.loc[df_base_tropical_full_C['forest'] == 'Forests']\n",
    "df_forest_tropical_full_D = df_base_tropical_full_D.loc[df_base_tropical_full_D['forest'] == 'Forests']\n",
    "\n",
    "df_bio_conserv_tropical_full_C = df_base_tropical_full_C.loc[df_base_tropical_full_C['bio_conserv'] == 'Biodiversity']\n",
    "df_bio_conserv_tropical_full_D = df_base_tropical_full_D.loc[df_base_tropical_full_D['bio_conserv'] == 'Biodiversity']\n",
    "\n",
    "df_redd_tropical_full_C = df_base_tropical_full_C.loc[df_base_tropical_full_C['redd'] == 'REDD']\n",
    "df_redd_tropical_full_D = df_base_tropical_full_D.loc[df_base_tropical_full_D['redd'] == 'REDD']\n",
    "\n",
    "df_sus_lands_tropical_full_C = df_base_tropical_full_C.loc[df_base_tropical_full_C['sus_lands'] == 'Sustainable']\n",
    "df_sus_lands_tropical_full_D = df_base_tropical_full_D.loc[df_base_tropical_full_D['sus_lands'] == 'Sustainable']\n",
    "\n",
    "df_land_use_tropical_full_C = df_base_tropical_full_C.loc[df_base_tropical_full_C['land_use'] == 'LU']\n",
    "df_land_use_tropical_full_D = df_base_tropical_full_D.loc[df_base_tropical_full_D['land_use'] == 'LU']\n",
    "\n",
    "df_livelihoods_tropical_full_C = df_base_tropical_full_C.loc[df_base_tropical_full_C['livelihoods'] == 'Livelihoods']\n",
    "df_livelihoods_tropical_full_D = df_base_tropical_full_D.loc[df_base_tropical_full_D['livelihoods'] == 'Livelihoods']\n",
    "\n",
    "df_negative_tropical_full_C = df_base_tropical_full_C.loc[df_base_tropical_full_C['negative'] == 'Negative']\n",
    "df_negative_tropical_full_D = df_base_tropical_full_D.loc[df_base_tropical_full_D['negative'] == 'Negative']\n"
   ]
  },
  {
   "cell_type": "markdown",
   "metadata": {},
   "source": [
    "### Figure Factory"
   ]
  },
  {
   "cell_type": "code",
   "execution_count": null,
   "metadata": {},
   "outputs": [],
   "source": [
    "# df_livelihoods_tropical_full_D['adj_usd_val'].sum()\n",
    "# len(df_livelihoods_tropical_full_D)\n",
    "\n",
    "# pd.set_option('display.max_rows', 100)\n",
    "# df_livelihoods_tropical_full_D.nlargest(10, 'adj_usd_val')\n",
    "\n",
    "# fig = go.Figure()\n",
    "# for org, group in df_livelihoods_tropical_full_D.groupby(\"rep_org\"):\n",
    "#     fig.add_trace(go.Scattergl(x=group[\"val_date\"], y=group[\"adj_usd_val\"], name=org, mode='markers', text=group[\"id\"]))\n",
    "    \n",
    "# fig.update_layout(legend_title_text = \"Livelihoods* Transactions\", autosize=True, width=1000, height=1000,legend=dict(orientation=\"h\"))\n",
    "\n",
    "# fig.show()\n",
    "\n",
    "# sum_yr_df_base_tropical_full_D = []\n",
    "# sum_yr_all_df_base_tropical_full_D = []\n",
    "\n",
    "# sum_yr_df_base_tropical_full_D = df_livelihoods_tropical_full_D.reset_index().set_index(pd.DatetimeIndex(df_livelihoods_tropical_full_D['val_date'])).groupby(['rep_org',pd.Grouper(freq='Y')])['adj_usd_val'].sum().reset_index(name='Val')\n",
    "# sum_yr_all_df_base_tropical_full_D = df_livelihoods_tropical_full_D.reset_index().set_index(pd.DatetimeIndex(df_livelihoods_tropical_full_D['val_date'])).groupby([pd.Grouper(freq='Y')])['adj_usd_val'].sum().reset_index(name='Val')\n",
    "\n",
    "\n",
    "\n",
    "# fig = go.Figure()\n",
    "# for org, group in sum_yr_df_base_tropical_full_D.groupby(\"rep_org\"):\n",
    "#     fig.add_trace(go.Scattergl(x=group[\"val_date\"], y=group[\"Val\"], name=org))\n",
    "    \n",
    "# fig.add_trace(go.Scattergl(x=sum_yr_all_df_base_tropical_full_D[\"val_date\"], y=sum_yr_all_df_base_tropical_full_D[\"Val\"], name=\"All\"))\n",
    "# fig.update_layout(legend_title_text = \"Livelihoods* Transactions\", autosize=True, width=1000, height=1000,legend=dict(orientation=\"h\"))\n",
    "# fig.show()\n",
    "# pd.set_option('display.max_rows', 1100)\n",
    "\n",
    "# sum_yr_df_base_tropical_full_D\n",
    "\n",
    "\n"
   ]
  },
  {
   "cell_type": "code",
   "execution_count": null,
   "metadata": {},
   "outputs": [],
   "source": [
    "\n",
    "\n",
    "# df_indigenous['val_date'] = pd.to_datetime(df_indigenous['val_date'], infer_datetime_format=True)\n",
    "\n",
    "fig = go.Figure()\n",
    "for org, group in df_base_tropical_full_C.groupby(\"rep_org\"):\n",
    "    fig.add_trace(go.Scattergl(x=group[\"val_date\"], y=group[\"adj_usd_val\"], name=org, mode='markers'))\n",
    "    \n",
    "fig.update_layout(legend_title_text = \"Indigenous* Transactions\", autosize=True, width=1000, height=1000,legend=dict(orientation=\"h\"))\n",
    "\n",
    "fig.show()"
   ]
  },
  {
   "cell_type": "code",
   "execution_count": null,
   "metadata": {},
   "outputs": [],
   "source": [
    "## convert to dt\n",
    "# df_indigenous['val_date'] = pd.to_datetime(df_indigenous['val_date'], infer_datetime_format=True)\n",
    "df_indigenous.dtypes"
   ]
  },
  {
   "cell_type": "code",
   "execution_count": null,
   "metadata": {},
   "outputs": [],
   "source": [
    "# sum_yr_df_indigenous = df_indigenous.groupby('val_date', as_index=False)['adj_usd_val'].sum()\n",
    "# sum_yr_df_indigenous = sum_yr_df_indigenous.set_index(df_indigenous['val_date'].rename('year').dt.year, append=True).swaplevel(0,1)\n",
    "\n",
    "# df1 = df_indigenous.groupby('val_date', as_index=False)['adj_usd_val'].sum()\n",
    "# df1 = df1.set_index(df_indigenous['val_date'].rename('year').dt.year, append=True).swaplevel(0,1)\n"
   ]
  },
  {
   "cell_type": "code",
   "execution_count": null,
   "metadata": {},
   "outputs": [],
   "source": [
    "##df_indigenous['val_date'] = pd.to_datetime(df_indigenous['val_date'], format = '%Y-%m-%d')\n",
    "##df_indigenous['adj_usd_val'] = pd.to_numeric(df_indigenous['adj_usd_val'])\n",
    "sum_yr_df_indigenous_tropical = []\n",
    "sum_yr_df_all_indigenous_tropical = []\n",
    "\n",
    "sum_yr_df_indigenous_tropical = df_indigenous_tropical_full_D.reset_index().set_index(pd.DatetimeIndex(df_indigenous_tropical_full_D['val_date'])).groupby(['rep_org_name',pd.Grouper(freq='Y')])['adj_usd_val'].sum().reset_index(name='Val')\n",
    "sum_yr_df_all_indigenous_tropical = df_indigenous_tropical_full_D.reset_index().set_index(pd.DatetimeIndex(df_indigenous_tropical_full_D['val_date'])).groupby([pd.Grouper(freq='Y')])['adj_usd_val'].sum().reset_index(name='Val')\n"
   ]
  },
  {
   "cell_type": "code",
   "execution_count": null,
   "metadata": {},
   "outputs": [],
   "source": [
    "sum_yr_df_indigenous_tropical"
   ]
  },
  {
   "cell_type": "code",
   "execution_count": null,
   "metadata": {},
   "outputs": [],
   "source": [
    "fig = go.Figure()\n",
    "for org, group in sum_yr_df_indigenous_tropical.groupby(\"rep_org_name\"):\n",
    "    fig.add_trace(go.Scattergl(x=group[\"val_date\"], y=group[\"Val\"], name=org))\n",
    "    \n",
    "fig.add_trace(go.Scattergl(x=sum_yr_df_all_indigenous_tropical[\"val_date\"], y=sum_yr_df_all_indigenous_tropical[\"Val\"], name=\"All\"))\n",
    "fig.update_layout(legend_title_text = \"Indigenous* Transactions\", autosize=True, width=1000, height=1000,legend=dict(orientation=\"h\"))\n",
    "fig.show()\n"
   ]
  },
  {
   "cell_type": "code",
   "execution_count": null,
   "metadata": {},
   "outputs": [],
   "source": [
    "# df_indigenous_tropical_full['val_date'] = pd.to_datetime(df_indigenous_tropical_full['val_date'], format = '%Y-%m-%d')\n",
    "df_indigenous_tropical_full.head(1000)"
   ]
  },
  {
   "cell_type": "code",
   "execution_count": null,
   "metadata": {},
   "outputs": [],
   "source": [
    "##Lambda for text\n",
    "# df_indigenous_tropical_full[\"desc\"] = df_indigenous_tropical_full[\"desc\"].apply(\n",
    "#     lambda t: \"<br>\".join(textwrap.wrap(t))\n",
    "# )\n",
    "\n",
    "\n",
    "##Both activities and trends\n",
    "fig = go.Figure()\n",
    "\n",
    "for org, group in df_indigenous_tropical_full.groupby(\"rep_org_name\"):\n",
    "    fig.add_trace(go.Scattergl(x=group[\"val_date\"], y=group[\"adj_usd_val\"], name=org, mode='markers', text=group[\"desc\"]))\n",
    "    \n",
    "for org, group in sum_yr_df_indigenous_tropical.groupby(\"rep_org_name\"):\n",
    "    fig.add_trace(go.Scattergl(x=group[\"val_date\"], y=group[\"Val\"], name=org))\n",
    "\n",
    "fig.add_trace(go.Scattergl(x=sum_yr_df_all_indigenous_tropical[\"val_date\"], y=sum_yr_df_all_indigenous_tropical[\"Val\"], name=\"All\"))  \n",
    "    \n",
    "fig.update_layout(legend_title_text = \"Indigenous* Transactions\", autosize=True, width=1000, height=1000,legend=dict(orientation=\"h\"))\n",
    "\n",
    "fig.show()"
   ]
  },
  {
   "cell_type": "code",
   "execution_count": null,
   "metadata": {
    "scrolled": false
   },
   "outputs": [],
   "source": [
    "##Check weird reporting dates e.g. 41120 which has reported all transactions on 2020-07-21\n",
    "\n",
    "# df_indigenous.loc[df_indigenous['rep_org'] == '41120']\n",
    "\n",
    "\n",
    "with pd.option_context('display.max_colwidth', None):\n",
    "    print(df_indigenous['desc'].head(1))"
   ]
  },
  {
   "cell_type": "markdown",
   "metadata": {},
   "source": [
    "### Transaction calcs"
   ]
  },
  {
   "cell_type": "code",
   "execution_count": null,
   "metadata": {},
   "outputs": [],
   "source": [
    "# df_indigenous_tropical_full[df_indigenous_tropical_full['adj_usd_val']>0].sum()\n",
    "## Clip negative numbers\n",
    "\n",
    "# cols = ['adj_usd_val']\n",
    "# df_indigenous_tropical_full_C[cols] = df_indigenous_tropical_full_C[df_indigenous_tropical_full_C[cols] > 0][cols]\n",
    "# df_indigenous_tropical_full_D[cols] = df_indigenous_tropical_full_D[df_indigenous_tropical_full_D[cols] > 0][cols]\n",
    "\n",
    "\n",
    "\n",
    "\n",
    "\n",
    "# df_indigenous_tropical_full_D['adj_usd_val'].sum()\n",
    "\n",
    "sum_yr_df_all_indigenous_tropical_C = df_indigenous_tropical_full_C.reset_index().set_index(pd.DatetimeIndex(df_indigenous_tropical_full_C['val_date'])).groupby([pd.Grouper(freq='Y')])['adj_usd_val'].sum().reset_index(name='Val')\n",
    "\n",
    "sum_yr_df_all_indigenous_tropical_D = df_indigenous_tropical_full_D.reset_index().set_index(pd.DatetimeIndex(df_indigenous_tropical_full_D['val_date'])).groupby([pd.Grouper(freq='Y')])['adj_usd_val'].sum().reset_index(name='Val')\n",
    "\n",
    "sum_yr_df_all_indigenous_tropical_D\n"
   ]
  },
  {
   "cell_type": "code",
   "execution_count": null,
   "metadata": {},
   "outputs": [],
   "source": [
    "##Commitment v Disbursement\n",
    "\n",
    "fig = go.Figure()\n",
    "\n",
    "fig.add_trace(go.Scattergl(x=sum_yr_df_all_indigenous_tropical_C[\"val_date\"], y=sum_yr_df_all_indigenous_tropical_C[\"Val\"], name=\"Commitment\"))  \n",
    "\n",
    "fig.add_trace(go.Scattergl(x=sum_yr_df_all_indigenous_tropical_D[\"val_date\"], y=sum_yr_df_all_indigenous_tropical_D[\"Val\"], name=\"Disbursement\"))  \n",
    "\n",
    "fig.update_layout(legend_title_text = \"Indigenous* Transactions\", autosize=True, width=1000, height=500,legend=dict(orientation=\"h\"))\n",
    "\n",
    "fig.show()"
   ]
  },
  {
   "cell_type": "code",
   "execution_count": null,
   "metadata": {},
   "outputs": [],
   "source": [
    "## Committment and Disbursements of largest Donors\n",
    "\n",
    "\n",
    "sum_yr_df_indigenous_tropical_top_C = df_indigenous_tropical_full_C.reset_index().set_index(pd.DatetimeIndex(df_indigenous_tropical_full_C['val_date'])).groupby(['rep_org_name',pd.Grouper(freq='Y')])['adj_usd_val'].sum().reset_index(name='Val')\n",
    "\n",
    "sum_yr_df_indigenous_tropical_top_D = df_indigenous_tropical_full_D.reset_index().set_index(pd.DatetimeIndex(df_indigenous_tropical_full_D['val_date'])).groupby(['rep_org_name',pd.Grouper(freq='Y')])['adj_usd_val'].sum().reset_index(name='Val')\n",
    "\n",
    "\n",
    "\n",
    "\n",
    "\n",
    "\n",
    "# cols = ['adj_usd_val']\n",
    "# df_indigenous_tropical_full_C[cols] = df_indigenous_tropical_full_C[df_indigenous_tropical_full_C[cols] > 0][cols]\n",
    "# df_indigenous_tropical_full_D[cols] = df_indigenous_tropical_full_D[df_indigenous_tropical_full_D[cols] > 0][cols]\n",
    "\n",
    "sum_yr_df_indigenous_tropical_top_D = sum_yr_df_indigenous_tropical_top_D[sum_yr_df_indigenous_tropical_top_D['rep_org_name'].str.contains('The World Bank', case=False) | \n",
    "                                   sum_yr_df_indigenous_tropical_top_D['rep_org_name'].str.contains('The Global Fund to Fight ', case=False) |\n",
    "                                   sum_yr_df_indigenous_tropical_top_D['rep_org_name'].str.contains('Inter-American Development ', case=False) |\n",
    "                                   sum_yr_df_indigenous_tropical_top_D['rep_org_name'].str.contains('Canada - Global Affairs Canada ', case=False) |\n",
    "                                   sum_yr_df_indigenous_tropical_top_D['rep_org_name'].str.contains('United States Agency for International', case=False) |\n",
    "                                   sum_yr_df_indigenous_tropical_top_D['rep_org_name'].str.contains('UK - Department for Business', case=False) |\n",
    "                                   sum_yr_df_indigenous_tropical_top_D['rep_org_name'].str.contains('United States', case=False) |\n",
    "                                   sum_yr_df_indigenous_tropical_top_D['rep_org_name'].str.contains('Asian Development Bank', case=False) |\n",
    "                                   sum_yr_df_indigenous_tropical_top_D['rep_org_name'].str.contains('European Commission - ', case=False) |\n",
    "                                   sum_yr_df_indigenous_tropical_top_D['rep_org_name'].str.contains('Norad - Norwegian', case=False) |\n",
    "                                   sum_yr_df_indigenous_tropical_top_D['rep_org_name'].str.contains('ford foundation', case=False) ]\n",
    "\n",
    "\n",
    "\n",
    "\n",
    "\n",
    "\n",
    "\n",
    "\n",
    "sum_yr_df_indigenous_tropical_top_C = sum_yr_df_indigenous_tropical_top_C[sum_yr_df_indigenous_tropical_top_C['rep_org_name'].str.contains('The World Bank', case=False) | \n",
    "                                   sum_yr_df_indigenous_tropical_top_C['rep_org_name'].str.contains('The Global Fund to Fight ', case=False) |\n",
    "#                                    sum_yr_df_indigenous_tropical_top_C['rep_org_name'].str.contains('Inter-American Development ', case=False) |\n",
    "                                   sum_yr_df_indigenous_tropical_top_C['rep_org_name'].str.contains('Canada - Global Affairs Canada ', case=False) |\n",
    "                                   sum_yr_df_indigenous_tropical_top_C['rep_org_name'].str.contains('United States Agency for International', case=False) |\n",
    "#                                    sum_yr_df_indigenous_tropical_top_C['rep_org_name'].str.contains('UK - Department for Business', case=False) |\n",
    "#                                    sum_yr_df_indigenous_tropical_top_C['rep_org_name'].str.contains('United States', case=False) |\n",
    "#                                    sum_yr_df_indigenous_tropical_top_C['rep_org_name'].str.contains('Asian Development Bank', case=False) |\n",
    "#                                    sum_yr_df_indigenous_tropical_top_C['rep_org_name'].str.contains('European Commission - ', case=False) |\n",
    "#                                    sum_yr_df_indigenous_tropical_top_C['rep_org_name'].str.contains('Norad - Norwegian', case=False) |\n",
    "                                   sum_yr_df_indigenous_tropical_top_C['rep_org_name'].str.contains('International Finance Corporation', case=False) ]\n",
    "\n",
    "sum_yr_df_indigenous_tropical_top_C\n",
    "\n",
    " \n",
    "\n"
   ]
  },
  {
   "cell_type": "code",
   "execution_count": null,
   "metadata": {},
   "outputs": [],
   "source": [
    "##Commitment v Disbursement\n",
    "\n",
    "fig = go.Figure()\n",
    "# for org, group in sum_yr_df_indigenous_tropical_top_C.groupby(\"rep_org_name\"):\n",
    "#     fig.add_trace(go.Scattergl(x=group[\"val_date\"], y=group[\"Val\"], name=org))\n",
    "\n",
    "for org, group in sum_yr_df_indigenous_tropical_top_D.groupby(\"rep_org_name\"):\n",
    "    fig.add_trace(go.Scattergl(x=group[\"val_date\"], y=group[\"Val\"], name=org))\n",
    "  \n",
    "    \n",
    "# fig.add_trace(go.Scattergl(x=sum_yr_df_all_indigenous_tropical_C[\"val_date\"], y=sum_yr_df_all_indigenous_tropical_C[\"Val\"], name=\"Commitment Total\"))  \n",
    "\n",
    "fig.add_trace(go.Scattergl(x=sum_yr_df_all_indigenous_tropical_D[\"val_date\"], y=sum_yr_df_all_indigenous_tropical_D[\"Val\"], name=\"Disbursement Total\"))  \n",
    "    \n",
    "fig.update_layout(legend_title_text = \"Indigenous* Transactions\", autosize=True, width=1000, height=1000,legend=dict(orientation=\"h\"))\n",
    "fig.show()\n"
   ]
  }
 ],
 "metadata": {
  "kernelspec": {
   "display_name": "Python 3",
   "language": "python",
   "name": "python3"
  },
  "language_info": {
   "codemirror_mode": {
    "name": "ipython",
    "version": 3
   },
   "file_extension": ".py",
   "mimetype": "text/x-python",
   "name": "python",
   "nbconvert_exporter": "python",
   "pygments_lexer": "ipython3",
   "version": "3.9.0"
  }
 },
 "nbformat": 4,
 "nbformat_minor": 4
}
